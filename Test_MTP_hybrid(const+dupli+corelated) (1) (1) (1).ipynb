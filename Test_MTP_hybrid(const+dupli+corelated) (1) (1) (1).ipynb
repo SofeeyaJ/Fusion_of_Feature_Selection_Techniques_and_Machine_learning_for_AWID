{
 "cells": [
  {
   "cell_type": "code",
   "execution_count": 1,
   "metadata": {
    "id": "uRR6ccWebEvF"
   },
   "outputs": [
    {
     "name": "stderr",
     "output_type": "stream",
     "text": [
      "2023-08-10 15:44:50.973732: I tensorflow/core/platform/cpu_feature_guard.cc:193] This TensorFlow binary is optimized with oneAPI Deep Neural Network Library (oneDNN) to use the following CPU instructions in performance-critical operations:  SSE4.1 SSE4.2 AVX AVX2 AVX512F AVX512_VNNI FMA\n",
      "To enable them in other operations, rebuild TensorFlow with the appropriate compiler flags.\n"
     ]
    }
   ],
   "source": [
    "import pandas as pd\n",
    "import numpy\n",
    "from sklearn.preprocessing import LabelEncoder, LabelBinarizer, StandardScaler\n",
    "from keras.utils.np_utils import to_categorical\n",
    "from sklearn.metrics import accuracy_score, classification_report\n",
    "\n",
    "from sklearn.metrics import roc_auc_score, roc_curve\n",
    "from sklearn.linear_model import LogisticRegression, SGDClassifier\n",
    "from sklearn.ensemble import RandomForestClassifier\n",
    "from sklearn.svm import SVC\n",
    "from sklearn.tree import DecisionTreeClassifier\n",
    "# import matplotlib.pyplot as plt\n",
    "\n",
    "\n",
    "\n",
    "import pandas as pd\n",
    "import numpy as np\n",
    "\n",
    "# import matplotlib.pyplot as plt\n",
    "import seaborn as sns\n",
    "# %matplotlib inline\n",
    "\n",
    "from sklearn.model_selection import train_test_split\n",
    "from sklearn.feature_selection import VarianceThreshold\n",
    "\n",
    "from sklearn.preprocessing import StandardScaler\n",
    "from sklearn.linear_model import LogisticRegression\n",
    "from sklearn.ensemble import RandomForestClassifier\n",
    "from sklearn.tree import DecisionTreeClassifier\n",
    "from sklearn.metrics import roc_auc_score"
   ]
  },
  {
   "cell_type": "code",
   "execution_count": 2,
   "metadata": {
    "id": "BrILVbm6cHBq"
   },
   "outputs": [],
   "source": [
    "features = ['frame.interface_id',\n",
    " 'frame.dlt',\n",
    " 'frame.offset_shift',\n",
    " 'frame.time_epoch',\n",
    " 'frame.time_delta',\n",
    " 'frame.time_delta_displayed',\n",
    " 'frame.time_relative',\n",
    " 'frame.len',\n",
    " 'frame.cap_len',\n",
    " 'frame.marked',\n",
    " 'frame.ignored',\n",
    " 'radiotap.version',\n",
    " 'radiotap.pad',\n",
    " 'radiotap.length',\n",
    " 'radiotap.present.tsft',\n",
    " 'radiotap.present.flags',\n",
    " 'radiotap.present.rate',\n",
    " 'radiotap.present.channel',\n",
    " 'radiotap.present.fhss',\n",
    " 'radiotap.present.dbm_antsignal',\n",
    " 'radiotap.present.dbm_antnoise',\n",
    " 'radiotap.present.lock_quality',\n",
    " 'radiotap.present.tx_attenuation',\n",
    " 'radiotap.present.db_tx_attenuation',\n",
    " 'radiotap.present.dbm_tx_power',\n",
    " 'radiotap.present.antenna',\n",
    " 'radiotap.present.db_antsignal',\n",
    " 'radiotap.present.db_antnoise',\n",
    " 'radiotap.present.rxflags',\n",
    " 'radiotap.present.xchannel',\n",
    " 'radiotap.present.mcs',\n",
    " 'radiotap.present.ampdu',\n",
    " 'radiotap.present.vht',\n",
    " 'radiotap.present.reserved',\n",
    " 'radiotap.present.rtap_ns',\n",
    " 'radiotap.present.vendor_ns',\n",
    " 'radiotap.present.ext',\n",
    " 'radiotap.mactime',\n",
    " 'radiotap.flags.cfp',\n",
    " 'radiotap.flags.preamble',\n",
    " 'radiotap.flags.wep',\n",
    " 'radiotap.flags.frag',\n",
    " 'radiotap.flags.fcs',\n",
    " 'radiotap.flags.datapad',\n",
    " 'radiotap.flags.badfcs',\n",
    " 'radiotap.flags.shortgi',\n",
    " 'radiotap.datarate',\n",
    " 'radiotap.channel.freq',\n",
    " 'radiotap.channel.type.turbo',\n",
    " 'radiotap.channel.type.cck',\n",
    " 'radiotap.channel.type.ofdm',\n",
    " 'radiotap.channel.type.2ghz',\n",
    " 'radiotap.channel.type.5ghz',\n",
    " 'radiotap.channel.type.passive',\n",
    " 'radiotap.channel.type.dynamic',\n",
    " 'radiotap.channel.type.gfsk',\n",
    " 'radiotap.channel.type.gsm',\n",
    " 'radiotap.channel.type.sturbo',\n",
    " 'radiotap.channel.type.half',\n",
    " 'radiotap.channel.type.quarter',\n",
    " 'radiotap.dbm_antsignal',\n",
    " 'radiotap.antenna',\n",
    " 'radiotap.rxflags.badplcp',\n",
    " 'wlan.fc.type_subtype',\n",
    " 'wlan.fc.version',\n",
    " 'wlan.fc.type',\n",
    " 'wlan.fc.subtype',\n",
    " 'wlan.fc.ds',\n",
    " 'wlan.fc.frag',\n",
    " 'wlan.fc.retry',\n",
    " 'wlan.fc.pwrmgt',\n",
    " 'wlan.fc.moredata',\n",
    " 'wlan.fc.protected',\n",
    " 'wlan.fc.order',\n",
    " 'wlan.duration',\n",
    " 'wlan.ra',\n",
    " 'wlan.da',\n",
    " 'wlan.ta',\n",
    " 'wlan.sa',\n",
    " 'wlan.bssid',\n",
    " 'wlan.frag',\n",
    " 'wlan.seq',\n",
    " 'wlan.bar.type',\n",
    " 'wlan.ba.control.ackpolicy',\n",
    " 'wlan.ba.control.multitid',\n",
    " 'wlan.ba.control.cbitmap',\n",
    " 'wlan.bar.compressed.tidinfo',\n",
    " 'wlan.ba.bm',\n",
    " 'wlan.fcs_good',\n",
    " 'wlan_mgt.fixed.capabilities.ess',\n",
    " 'wlan_mgt.fixed.capabilities.ibss',\n",
    " 'wlan_mgt.fixed.capabilities.cfpoll.ap',\n",
    " 'wlan_mgt.fixed.capabilities.privacy',\n",
    " 'wlan_mgt.fixed.capabilities.preamble',\n",
    " 'wlan_mgt.fixed.capabilities.pbcc',\n",
    " 'wlan_mgt.fixed.capabilities.agility',\n",
    " 'wlan_mgt.fixed.capabilities.spec_man',\n",
    " 'wlan_mgt.fixed.capabilities.short_slot_time',\n",
    " 'wlan_mgt.fixed.capabilities.apsd',\n",
    " 'wlan_mgt.fixed.capabilities.radio_measurement',\n",
    " 'wlan_mgt.fixed.capabilities.dsss_ofdm',\n",
    " 'wlan_mgt.fixed.capabilities.del_blk_ack',\n",
    " 'wlan_mgt.fixed.capabilities.imm_blk_ack',\n",
    " 'wlan_mgt.fixed.listen_ival',\n",
    " 'wlan_mgt.fixed.current_ap',\n",
    " 'wlan_mgt.fixed.status_code',\n",
    " 'wlan_mgt.fixed.timestamp',\n",
    " 'wlan_mgt.fixed.beacon',\n",
    " 'wlan_mgt.fixed.aid',\n",
    " 'wlan_mgt.fixed.reason_code',\n",
    " 'wlan_mgt.fixed.auth.alg',\n",
    " 'wlan_mgt.fixed.auth_seq',\n",
    " 'wlan_mgt.fixed.category_code',\n",
    " 'wlan_mgt.fixed.htact',\n",
    " 'wlan_mgt.fixed.chanwidth',\n",
    " 'wlan_mgt.fixed.fragment',\n",
    " 'wlan_mgt.fixed.sequence',\n",
    " 'wlan_mgt.tagged.all',\n",
    " 'wlan_mgt.ssid',\n",
    " 'wlan_mgt.ds.current_channel',\n",
    " 'wlan_mgt.tim.dtim_count',\n",
    " 'wlan_mgt.tim.dtim_period',\n",
    " 'wlan_mgt.tim.bmapctl.multicast',\n",
    " 'wlan_mgt.tim.bmapctl.offset',\n",
    " 'wlan_mgt.country_info.environment',\n",
    " 'wlan_mgt.rsn.version',\n",
    " 'wlan_mgt.rsn.gcs.type',\n",
    " 'wlan_mgt.rsn.pcs.count',\n",
    " 'wlan_mgt.rsn.akms.count',\n",
    " 'wlan_mgt.rsn.akms.type',\n",
    " 'wlan_mgt.rsn.capabilities.preauth',\n",
    " 'wlan_mgt.rsn.capabilities.no_pairwise',\n",
    " 'wlan_mgt.rsn.capabilities.ptksa_replay_counter',\n",
    " 'wlan_mgt.rsn.capabilities.gtksa_replay_counter',\n",
    " 'wlan_mgt.rsn.capabilities.mfpr',\n",
    " 'wlan_mgt.rsn.capabilities.mfpc',\n",
    " 'wlan_mgt.rsn.capabilities.peerkey',\n",
    " 'wlan_mgt.tcprep.trsmt_pow',\n",
    " 'wlan_mgt.tcprep.link_mrg',\n",
    " 'wlan.wep.iv',\n",
    " 'wlan.wep.key',\n",
    " 'wlan.wep.icv',\n",
    " 'wlan.tkip.extiv',\n",
    " 'wlan.ccmp.extiv',\n",
    " 'wlan.qos.tid',\n",
    " 'wlan.qos.priority',\n",
    " 'wlan.qos.eosp',\n",
    " 'wlan.qos.ack',\n",
    " 'wlan.qos.amsdupresent',\n",
    " 'wlan.qos.buf_state_indicated1',\n",
    " 'wlan.qos.bit4',\n",
    " 'wlan.qos.txop_dur_req',\n",
    " 'wlan.qos.buf_state_indicated2',\n",
    " 'data.len',\n",
    " 'class']"
   ]
  },
  {
   "cell_type": "code",
   "execution_count": 3,
   "metadata": {
    "colab": {
     "base_uri": "https://localhost:8080/"
    },
    "id": "e_ddIKAa0n5U",
    "outputId": "a708e628-9abe-4704-889b-6b4b1ce6ee08"
   },
   "outputs": [],
   "source": [
    "# from google.colab import drive\n",
    "# drive.mount(\"/content/gdrive\")"
   ]
  },
  {
   "cell_type": "code",
   "execution_count": 4,
   "metadata": {
    "colab": {
     "base_uri": "https://localhost:8080/"
    },
    "id": "hUPfGIX50o3_",
    "outputId": "9b4b3a56-6760-49a9-a4ba-a1a0c6e13ba6"
   },
   "outputs": [
    {
     "name": "stderr",
     "output_type": "stream",
     "text": [
      "/tmp/ipykernel_516373/3960476799.py:2: DtypeWarning: Columns (37,38,39,40,41,42,43,44,45,47,48,49,50,51,52,53,54,55,56,57,58,59,60,61,62,74,88) have mixed types. Specify dtype option on import or set low_memory=False.\n",
      "  awid=pd.read_csv('AWID-CLS-R-Trn.csv',header=None,names=features)\n"
     ]
    }
   ],
   "source": [
    "import pandas as pd\n",
    "awid=pd.read_csv('AWID-CLS-R-Trn.csv',header=None,names=features)"
   ]
  },
  {
   "cell_type": "code",
   "execution_count": 5,
   "metadata": {
    "id": "g5oWT68w_iTa"
   },
   "outputs": [
    {
     "name": "stderr",
     "output_type": "stream",
     "text": [
      "/tmp/ipykernel_516373/1847660984.py:1: DtypeWarning: Columns (37,38,39,40,41,42,43,44,45,47,48,49,50,51,52,53,54,55,56,57,58,59,60,61,62,74,88) have mixed types. Specify dtype option on import or set low_memory=False.\n",
      "  awid_test=pd.read_csv('AWID-CLS-R-Tst.csv',header=None,names=features)\n"
     ]
    }
   ],
   "source": [
    "awid_test=pd.read_csv('AWID-CLS-R-Tst.csv',header=None,names=features)"
   ]
  },
  {
   "cell_type": "code",
   "execution_count": 6,
   "metadata": {
    "colab": {
     "base_uri": "https://localhost:8080/",
     "height": 456
    },
    "id": "Eo00s_fdiQcY",
    "outputId": "9ed1fe70-c056-44ec-bcec-72ab8dfbaef5"
   },
   "outputs": [
    {
     "data": {
      "text/html": [
       "<div>\n",
       "<style scoped>\n",
       "    .dataframe tbody tr th:only-of-type {\n",
       "        vertical-align: middle;\n",
       "    }\n",
       "\n",
       "    .dataframe tbody tr th {\n",
       "        vertical-align: top;\n",
       "    }\n",
       "\n",
       "    .dataframe thead th {\n",
       "        text-align: right;\n",
       "    }\n",
       "</style>\n",
       "<table border=\"1\" class=\"dataframe\">\n",
       "  <thead>\n",
       "    <tr style=\"text-align: right;\">\n",
       "      <th></th>\n",
       "      <th>frame.interface_id</th>\n",
       "      <th>frame.dlt</th>\n",
       "      <th>frame.offset_shift</th>\n",
       "      <th>frame.time_epoch</th>\n",
       "      <th>frame.time_delta</th>\n",
       "      <th>frame.time_delta_displayed</th>\n",
       "      <th>frame.time_relative</th>\n",
       "      <th>frame.len</th>\n",
       "      <th>frame.cap_len</th>\n",
       "      <th>frame.marked</th>\n",
       "      <th>...</th>\n",
       "      <th>wlan.qos.priority</th>\n",
       "      <th>wlan.qos.eosp</th>\n",
       "      <th>wlan.qos.ack</th>\n",
       "      <th>wlan.qos.amsdupresent</th>\n",
       "      <th>wlan.qos.buf_state_indicated1</th>\n",
       "      <th>wlan.qos.bit4</th>\n",
       "      <th>wlan.qos.txop_dur_req</th>\n",
       "      <th>wlan.qos.buf_state_indicated2</th>\n",
       "      <th>data.len</th>\n",
       "      <th>class</th>\n",
       "    </tr>\n",
       "  </thead>\n",
       "  <tbody>\n",
       "    <tr>\n",
       "      <th>0</th>\n",
       "      <td>0</td>\n",
       "      <td>?</td>\n",
       "      <td>0.0</td>\n",
       "      <td>1.393661e+09</td>\n",
       "      <td>0.000000</td>\n",
       "      <td>0.000000</td>\n",
       "      <td>0.000000</td>\n",
       "      <td>261</td>\n",
       "      <td>261</td>\n",
       "      <td>0</td>\n",
       "      <td>...</td>\n",
       "      <td>?</td>\n",
       "      <td>?</td>\n",
       "      <td>?</td>\n",
       "      <td>?</td>\n",
       "      <td>?</td>\n",
       "      <td>?</td>\n",
       "      <td>?</td>\n",
       "      <td>?</td>\n",
       "      <td>?</td>\n",
       "      <td>normal</td>\n",
       "    </tr>\n",
       "    <tr>\n",
       "      <th>1</th>\n",
       "      <td>0</td>\n",
       "      <td>?</td>\n",
       "      <td>0.0</td>\n",
       "      <td>1.393661e+09</td>\n",
       "      <td>0.024271</td>\n",
       "      <td>0.024271</td>\n",
       "      <td>0.024271</td>\n",
       "      <td>185</td>\n",
       "      <td>185</td>\n",
       "      <td>0</td>\n",
       "      <td>...</td>\n",
       "      <td>?</td>\n",
       "      <td>?</td>\n",
       "      <td>?</td>\n",
       "      <td>?</td>\n",
       "      <td>?</td>\n",
       "      <td>?</td>\n",
       "      <td>?</td>\n",
       "      <td>?</td>\n",
       "      <td>?</td>\n",
       "      <td>normal</td>\n",
       "    </tr>\n",
       "    <tr>\n",
       "      <th>2</th>\n",
       "      <td>0</td>\n",
       "      <td>?</td>\n",
       "      <td>0.0</td>\n",
       "      <td>1.393661e+09</td>\n",
       "      <td>0.001631</td>\n",
       "      <td>0.001631</td>\n",
       "      <td>0.025902</td>\n",
       "      <td>185</td>\n",
       "      <td>185</td>\n",
       "      <td>0</td>\n",
       "      <td>...</td>\n",
       "      <td>?</td>\n",
       "      <td>?</td>\n",
       "      <td>?</td>\n",
       "      <td>?</td>\n",
       "      <td>?</td>\n",
       "      <td>?</td>\n",
       "      <td>?</td>\n",
       "      <td>?</td>\n",
       "      <td>?</td>\n",
       "      <td>normal</td>\n",
       "    </tr>\n",
       "    <tr>\n",
       "      <th>3</th>\n",
       "      <td>0</td>\n",
       "      <td>?</td>\n",
       "      <td>0.0</td>\n",
       "      <td>1.393661e+09</td>\n",
       "      <td>0.055325</td>\n",
       "      <td>0.055325</td>\n",
       "      <td>0.081227</td>\n",
       "      <td>159</td>\n",
       "      <td>159</td>\n",
       "      <td>0</td>\n",
       "      <td>...</td>\n",
       "      <td>?</td>\n",
       "      <td>?</td>\n",
       "      <td>?</td>\n",
       "      <td>?</td>\n",
       "      <td>?</td>\n",
       "      <td>?</td>\n",
       "      <td>?</td>\n",
       "      <td>?</td>\n",
       "      <td>?</td>\n",
       "      <td>normal</td>\n",
       "    </tr>\n",
       "    <tr>\n",
       "      <th>4</th>\n",
       "      <td>0</td>\n",
       "      <td>?</td>\n",
       "      <td>0.0</td>\n",
       "      <td>1.393661e+09</td>\n",
       "      <td>0.000415</td>\n",
       "      <td>0.000415</td>\n",
       "      <td>0.081642</td>\n",
       "      <td>54</td>\n",
       "      <td>54</td>\n",
       "      <td>0</td>\n",
       "      <td>...</td>\n",
       "      <td>?</td>\n",
       "      <td>?</td>\n",
       "      <td>?</td>\n",
       "      <td>?</td>\n",
       "      <td>?</td>\n",
       "      <td>?</td>\n",
       "      <td>?</td>\n",
       "      <td>?</td>\n",
       "      <td>?</td>\n",
       "      <td>normal</td>\n",
       "    </tr>\n",
       "    <tr>\n",
       "      <th>5</th>\n",
       "      <td>0</td>\n",
       "      <td>?</td>\n",
       "      <td>0.0</td>\n",
       "      <td>1.393661e+09</td>\n",
       "      <td>0.000005</td>\n",
       "      <td>0.000005</td>\n",
       "      <td>0.081647</td>\n",
       "      <td>40</td>\n",
       "      <td>40</td>\n",
       "      <td>0</td>\n",
       "      <td>...</td>\n",
       "      <td>?</td>\n",
       "      <td>?</td>\n",
       "      <td>?</td>\n",
       "      <td>?</td>\n",
       "      <td>?</td>\n",
       "      <td>?</td>\n",
       "      <td>?</td>\n",
       "      <td>?</td>\n",
       "      <td>?</td>\n",
       "      <td>normal</td>\n",
       "    </tr>\n",
       "    <tr>\n",
       "      <th>6</th>\n",
       "      <td>0</td>\n",
       "      <td>?</td>\n",
       "      <td>0.0</td>\n",
       "      <td>1.393661e+09</td>\n",
       "      <td>0.016692</td>\n",
       "      <td>0.016692</td>\n",
       "      <td>0.098339</td>\n",
       "      <td>261</td>\n",
       "      <td>261</td>\n",
       "      <td>0</td>\n",
       "      <td>...</td>\n",
       "      <td>?</td>\n",
       "      <td>?</td>\n",
       "      <td>?</td>\n",
       "      <td>?</td>\n",
       "      <td>?</td>\n",
       "      <td>?</td>\n",
       "      <td>?</td>\n",
       "      <td>?</td>\n",
       "      <td>?</td>\n",
       "      <td>normal</td>\n",
       "    </tr>\n",
       "    <tr>\n",
       "      <th>7</th>\n",
       "      <td>0</td>\n",
       "      <td>?</td>\n",
       "      <td>0.0</td>\n",
       "      <td>1.393661e+09</td>\n",
       "      <td>0.000142</td>\n",
       "      <td>0.000142</td>\n",
       "      <td>0.098481</td>\n",
       "      <td>40</td>\n",
       "      <td>40</td>\n",
       "      <td>0</td>\n",
       "      <td>...</td>\n",
       "      <td>?</td>\n",
       "      <td>?</td>\n",
       "      <td>?</td>\n",
       "      <td>?</td>\n",
       "      <td>?</td>\n",
       "      <td>?</td>\n",
       "      <td>?</td>\n",
       "      <td>?</td>\n",
       "      <td>?</td>\n",
       "      <td>normal</td>\n",
       "    </tr>\n",
       "    <tr>\n",
       "      <th>8</th>\n",
       "      <td>0</td>\n",
       "      <td>?</td>\n",
       "      <td>0.0</td>\n",
       "      <td>1.393661e+09</td>\n",
       "      <td>0.028067</td>\n",
       "      <td>0.028067</td>\n",
       "      <td>0.126548</td>\n",
       "      <td>185</td>\n",
       "      <td>185</td>\n",
       "      <td>0</td>\n",
       "      <td>...</td>\n",
       "      <td>?</td>\n",
       "      <td>?</td>\n",
       "      <td>?</td>\n",
       "      <td>?</td>\n",
       "      <td>?</td>\n",
       "      <td>?</td>\n",
       "      <td>?</td>\n",
       "      <td>?</td>\n",
       "      <td>?</td>\n",
       "      <td>normal</td>\n",
       "    </tr>\n",
       "    <tr>\n",
       "      <th>9</th>\n",
       "      <td>0</td>\n",
       "      <td>?</td>\n",
       "      <td>0.0</td>\n",
       "      <td>1.393661e+09</td>\n",
       "      <td>0.001801</td>\n",
       "      <td>0.001801</td>\n",
       "      <td>0.128349</td>\n",
       "      <td>185</td>\n",
       "      <td>185</td>\n",
       "      <td>0</td>\n",
       "      <td>...</td>\n",
       "      <td>?</td>\n",
       "      <td>?</td>\n",
       "      <td>?</td>\n",
       "      <td>?</td>\n",
       "      <td>?</td>\n",
       "      <td>?</td>\n",
       "      <td>?</td>\n",
       "      <td>?</td>\n",
       "      <td>?</td>\n",
       "      <td>normal</td>\n",
       "    </tr>\n",
       "  </tbody>\n",
       "</table>\n",
       "<p>10 rows × 155 columns</p>\n",
       "</div>"
      ],
      "text/plain": [
       "   frame.interface_id frame.dlt  frame.offset_shift  frame.time_epoch  \\\n",
       "0                   0         ?                 0.0      1.393661e+09   \n",
       "1                   0         ?                 0.0      1.393661e+09   \n",
       "2                   0         ?                 0.0      1.393661e+09   \n",
       "3                   0         ?                 0.0      1.393661e+09   \n",
       "4                   0         ?                 0.0      1.393661e+09   \n",
       "5                   0         ?                 0.0      1.393661e+09   \n",
       "6                   0         ?                 0.0      1.393661e+09   \n",
       "7                   0         ?                 0.0      1.393661e+09   \n",
       "8                   0         ?                 0.0      1.393661e+09   \n",
       "9                   0         ?                 0.0      1.393661e+09   \n",
       "\n",
       "   frame.time_delta  frame.time_delta_displayed  frame.time_relative  \\\n",
       "0          0.000000                    0.000000             0.000000   \n",
       "1          0.024271                    0.024271             0.024271   \n",
       "2          0.001631                    0.001631             0.025902   \n",
       "3          0.055325                    0.055325             0.081227   \n",
       "4          0.000415                    0.000415             0.081642   \n",
       "5          0.000005                    0.000005             0.081647   \n",
       "6          0.016692                    0.016692             0.098339   \n",
       "7          0.000142                    0.000142             0.098481   \n",
       "8          0.028067                    0.028067             0.126548   \n",
       "9          0.001801                    0.001801             0.128349   \n",
       "\n",
       "   frame.len  frame.cap_len  frame.marked  ...  wlan.qos.priority  \\\n",
       "0        261            261             0  ...                  ?   \n",
       "1        185            185             0  ...                  ?   \n",
       "2        185            185             0  ...                  ?   \n",
       "3        159            159             0  ...                  ?   \n",
       "4         54             54             0  ...                  ?   \n",
       "5         40             40             0  ...                  ?   \n",
       "6        261            261             0  ...                  ?   \n",
       "7         40             40             0  ...                  ?   \n",
       "8        185            185             0  ...                  ?   \n",
       "9        185            185             0  ...                  ?   \n",
       "\n",
       "   wlan.qos.eosp  wlan.qos.ack  wlan.qos.amsdupresent  \\\n",
       "0              ?             ?                      ?   \n",
       "1              ?             ?                      ?   \n",
       "2              ?             ?                      ?   \n",
       "3              ?             ?                      ?   \n",
       "4              ?             ?                      ?   \n",
       "5              ?             ?                      ?   \n",
       "6              ?             ?                      ?   \n",
       "7              ?             ?                      ?   \n",
       "8              ?             ?                      ?   \n",
       "9              ?             ?                      ?   \n",
       "\n",
       "   wlan.qos.buf_state_indicated1  wlan.qos.bit4  wlan.qos.txop_dur_req  \\\n",
       "0                              ?              ?                      ?   \n",
       "1                              ?              ?                      ?   \n",
       "2                              ?              ?                      ?   \n",
       "3                              ?              ?                      ?   \n",
       "4                              ?              ?                      ?   \n",
       "5                              ?              ?                      ?   \n",
       "6                              ?              ?                      ?   \n",
       "7                              ?              ?                      ?   \n",
       "8                              ?              ?                      ?   \n",
       "9                              ?              ?                      ?   \n",
       "\n",
       "   wlan.qos.buf_state_indicated2  data.len   class  \n",
       "0                              ?         ?  normal  \n",
       "1                              ?         ?  normal  \n",
       "2                              ?         ?  normal  \n",
       "3                              ?         ?  normal  \n",
       "4                              ?         ?  normal  \n",
       "5                              ?         ?  normal  \n",
       "6                              ?         ?  normal  \n",
       "7                              ?         ?  normal  \n",
       "8                              ?         ?  normal  \n",
       "9                              ?         ?  normal  \n",
       "\n",
       "[10 rows x 155 columns]"
      ]
     },
     "execution_count": 6,
     "metadata": {},
     "output_type": "execute_result"
    }
   ],
   "source": [
    "awid.head(n=10)\n"
   ]
  },
  {
   "cell_type": "code",
   "execution_count": 7,
   "metadata": {
    "colab": {
     "base_uri": "https://localhost:8080/",
     "height": 456
    },
    "id": "EePMJzpniTlq",
    "outputId": "105bf137-7385-4d9d-c4da-920997a51a9e"
   },
   "outputs": [
    {
     "data": {
      "text/html": [
       "<div>\n",
       "<style scoped>\n",
       "    .dataframe tbody tr th:only-of-type {\n",
       "        vertical-align: middle;\n",
       "    }\n",
       "\n",
       "    .dataframe tbody tr th {\n",
       "        vertical-align: top;\n",
       "    }\n",
       "\n",
       "    .dataframe thead th {\n",
       "        text-align: right;\n",
       "    }\n",
       "</style>\n",
       "<table border=\"1\" class=\"dataframe\">\n",
       "  <thead>\n",
       "    <tr style=\"text-align: right;\">\n",
       "      <th></th>\n",
       "      <th>frame.interface_id</th>\n",
       "      <th>frame.dlt</th>\n",
       "      <th>frame.offset_shift</th>\n",
       "      <th>frame.time_epoch</th>\n",
       "      <th>frame.time_delta</th>\n",
       "      <th>frame.time_delta_displayed</th>\n",
       "      <th>frame.time_relative</th>\n",
       "      <th>frame.len</th>\n",
       "      <th>frame.cap_len</th>\n",
       "      <th>frame.marked</th>\n",
       "      <th>...</th>\n",
       "      <th>wlan.qos.priority</th>\n",
       "      <th>wlan.qos.eosp</th>\n",
       "      <th>wlan.qos.ack</th>\n",
       "      <th>wlan.qos.amsdupresent</th>\n",
       "      <th>wlan.qos.buf_state_indicated1</th>\n",
       "      <th>wlan.qos.bit4</th>\n",
       "      <th>wlan.qos.txop_dur_req</th>\n",
       "      <th>wlan.qos.buf_state_indicated2</th>\n",
       "      <th>data.len</th>\n",
       "      <th>class</th>\n",
       "    </tr>\n",
       "  </thead>\n",
       "  <tbody>\n",
       "    <tr>\n",
       "      <th>0</th>\n",
       "      <td>0</td>\n",
       "      <td>?</td>\n",
       "      <td>0.0</td>\n",
       "      <td>1.393668e+09</td>\n",
       "      <td>0.000000</td>\n",
       "      <td>0.000000</td>\n",
       "      <td>0.000000</td>\n",
       "      <td>1552</td>\n",
       "      <td>1552</td>\n",
       "      <td>0</td>\n",
       "      <td>...</td>\n",
       "      <td>1</td>\n",
       "      <td>0</td>\n",
       "      <td>0x0000</td>\n",
       "      <td>0</td>\n",
       "      <td>?</td>\n",
       "      <td>?</td>\n",
       "      <td>?</td>\n",
       "      <td>0</td>\n",
       "      <td>1488</td>\n",
       "      <td>normal</td>\n",
       "    </tr>\n",
       "    <tr>\n",
       "      <th>1</th>\n",
       "      <td>0</td>\n",
       "      <td>?</td>\n",
       "      <td>0.0</td>\n",
       "      <td>1.393668e+09</td>\n",
       "      <td>0.001056</td>\n",
       "      <td>0.001056</td>\n",
       "      <td>0.001056</td>\n",
       "      <td>1552</td>\n",
       "      <td>1552</td>\n",
       "      <td>0</td>\n",
       "      <td>...</td>\n",
       "      <td>1</td>\n",
       "      <td>0</td>\n",
       "      <td>0x0000</td>\n",
       "      <td>0</td>\n",
       "      <td>?</td>\n",
       "      <td>?</td>\n",
       "      <td>?</td>\n",
       "      <td>0</td>\n",
       "      <td>1488</td>\n",
       "      <td>normal</td>\n",
       "    </tr>\n",
       "    <tr>\n",
       "      <th>2</th>\n",
       "      <td>0</td>\n",
       "      <td>?</td>\n",
       "      <td>0.0</td>\n",
       "      <td>1.393668e+09</td>\n",
       "      <td>0.000141</td>\n",
       "      <td>0.000141</td>\n",
       "      <td>0.001197</td>\n",
       "      <td>40</td>\n",
       "      <td>40</td>\n",
       "      <td>0</td>\n",
       "      <td>...</td>\n",
       "      <td>?</td>\n",
       "      <td>?</td>\n",
       "      <td>?</td>\n",
       "      <td>?</td>\n",
       "      <td>?</td>\n",
       "      <td>?</td>\n",
       "      <td>?</td>\n",
       "      <td>?</td>\n",
       "      <td>?</td>\n",
       "      <td>normal</td>\n",
       "    </tr>\n",
       "    <tr>\n",
       "      <th>3</th>\n",
       "      <td>0</td>\n",
       "      <td>?</td>\n",
       "      <td>0.0</td>\n",
       "      <td>1.393668e+09</td>\n",
       "      <td>0.000156</td>\n",
       "      <td>0.000156</td>\n",
       "      <td>0.001353</td>\n",
       "      <td>40</td>\n",
       "      <td>40</td>\n",
       "      <td>0</td>\n",
       "      <td>...</td>\n",
       "      <td>?</td>\n",
       "      <td>?</td>\n",
       "      <td>?</td>\n",
       "      <td>?</td>\n",
       "      <td>?</td>\n",
       "      <td>?</td>\n",
       "      <td>?</td>\n",
       "      <td>?</td>\n",
       "      <td>?</td>\n",
       "      <td>normal</td>\n",
       "    </tr>\n",
       "    <tr>\n",
       "      <th>4</th>\n",
       "      <td>0</td>\n",
       "      <td>?</td>\n",
       "      <td>0.0</td>\n",
       "      <td>1.393668e+09</td>\n",
       "      <td>0.001842</td>\n",
       "      <td>0.001842</td>\n",
       "      <td>0.003195</td>\n",
       "      <td>1552</td>\n",
       "      <td>1552</td>\n",
       "      <td>0</td>\n",
       "      <td>...</td>\n",
       "      <td>1</td>\n",
       "      <td>0</td>\n",
       "      <td>0x0000</td>\n",
       "      <td>0</td>\n",
       "      <td>?</td>\n",
       "      <td>?</td>\n",
       "      <td>?</td>\n",
       "      <td>0</td>\n",
       "      <td>1488</td>\n",
       "      <td>normal</td>\n",
       "    </tr>\n",
       "    <tr>\n",
       "      <th>5</th>\n",
       "      <td>0</td>\n",
       "      <td>?</td>\n",
       "      <td>0.0</td>\n",
       "      <td>1.393668e+09</td>\n",
       "      <td>0.006015</td>\n",
       "      <td>0.006015</td>\n",
       "      <td>0.009210</td>\n",
       "      <td>1552</td>\n",
       "      <td>1552</td>\n",
       "      <td>0</td>\n",
       "      <td>...</td>\n",
       "      <td>1</td>\n",
       "      <td>0</td>\n",
       "      <td>0x0000</td>\n",
       "      <td>0</td>\n",
       "      <td>?</td>\n",
       "      <td>?</td>\n",
       "      <td>?</td>\n",
       "      <td>0</td>\n",
       "      <td>1488</td>\n",
       "      <td>normal</td>\n",
       "    </tr>\n",
       "    <tr>\n",
       "      <th>6</th>\n",
       "      <td>0</td>\n",
       "      <td>?</td>\n",
       "      <td>0.0</td>\n",
       "      <td>1.393668e+09</td>\n",
       "      <td>0.000940</td>\n",
       "      <td>0.000940</td>\n",
       "      <td>0.010150</td>\n",
       "      <td>1552</td>\n",
       "      <td>1552</td>\n",
       "      <td>0</td>\n",
       "      <td>...</td>\n",
       "      <td>1</td>\n",
       "      <td>0</td>\n",
       "      <td>0x0000</td>\n",
       "      <td>0</td>\n",
       "      <td>?</td>\n",
       "      <td>?</td>\n",
       "      <td>?</td>\n",
       "      <td>0</td>\n",
       "      <td>1488</td>\n",
       "      <td>normal</td>\n",
       "    </tr>\n",
       "    <tr>\n",
       "      <th>7</th>\n",
       "      <td>0</td>\n",
       "      <td>?</td>\n",
       "      <td>0.0</td>\n",
       "      <td>1.393668e+09</td>\n",
       "      <td>0.000459</td>\n",
       "      <td>0.000459</td>\n",
       "      <td>0.010609</td>\n",
       "      <td>1552</td>\n",
       "      <td>1552</td>\n",
       "      <td>0</td>\n",
       "      <td>...</td>\n",
       "      <td>1</td>\n",
       "      <td>0</td>\n",
       "      <td>0x0000</td>\n",
       "      <td>0</td>\n",
       "      <td>?</td>\n",
       "      <td>?</td>\n",
       "      <td>?</td>\n",
       "      <td>0</td>\n",
       "      <td>1488</td>\n",
       "      <td>normal</td>\n",
       "    </tr>\n",
       "    <tr>\n",
       "      <th>8</th>\n",
       "      <td>0</td>\n",
       "      <td>?</td>\n",
       "      <td>0.0</td>\n",
       "      <td>1.393668e+09</td>\n",
       "      <td>0.000824</td>\n",
       "      <td>0.000824</td>\n",
       "      <td>0.011433</td>\n",
       "      <td>40</td>\n",
       "      <td>40</td>\n",
       "      <td>0</td>\n",
       "      <td>...</td>\n",
       "      <td>?</td>\n",
       "      <td>?</td>\n",
       "      <td>?</td>\n",
       "      <td>?</td>\n",
       "      <td>?</td>\n",
       "      <td>?</td>\n",
       "      <td>?</td>\n",
       "      <td>?</td>\n",
       "      <td>?</td>\n",
       "      <td>normal</td>\n",
       "    </tr>\n",
       "    <tr>\n",
       "      <th>9</th>\n",
       "      <td>0</td>\n",
       "      <td>?</td>\n",
       "      <td>0.0</td>\n",
       "      <td>1.393668e+09</td>\n",
       "      <td>0.000583</td>\n",
       "      <td>0.000583</td>\n",
       "      <td>0.012016</td>\n",
       "      <td>1552</td>\n",
       "      <td>1552</td>\n",
       "      <td>0</td>\n",
       "      <td>...</td>\n",
       "      <td>1</td>\n",
       "      <td>0</td>\n",
       "      <td>0x0000</td>\n",
       "      <td>0</td>\n",
       "      <td>?</td>\n",
       "      <td>?</td>\n",
       "      <td>?</td>\n",
       "      <td>0</td>\n",
       "      <td>1488</td>\n",
       "      <td>normal</td>\n",
       "    </tr>\n",
       "  </tbody>\n",
       "</table>\n",
       "<p>10 rows × 155 columns</p>\n",
       "</div>"
      ],
      "text/plain": [
       "   frame.interface_id frame.dlt  frame.offset_shift  frame.time_epoch  \\\n",
       "0                   0         ?                 0.0      1.393668e+09   \n",
       "1                   0         ?                 0.0      1.393668e+09   \n",
       "2                   0         ?                 0.0      1.393668e+09   \n",
       "3                   0         ?                 0.0      1.393668e+09   \n",
       "4                   0         ?                 0.0      1.393668e+09   \n",
       "5                   0         ?                 0.0      1.393668e+09   \n",
       "6                   0         ?                 0.0      1.393668e+09   \n",
       "7                   0         ?                 0.0      1.393668e+09   \n",
       "8                   0         ?                 0.0      1.393668e+09   \n",
       "9                   0         ?                 0.0      1.393668e+09   \n",
       "\n",
       "   frame.time_delta  frame.time_delta_displayed  frame.time_relative  \\\n",
       "0          0.000000                    0.000000             0.000000   \n",
       "1          0.001056                    0.001056             0.001056   \n",
       "2          0.000141                    0.000141             0.001197   \n",
       "3          0.000156                    0.000156             0.001353   \n",
       "4          0.001842                    0.001842             0.003195   \n",
       "5          0.006015                    0.006015             0.009210   \n",
       "6          0.000940                    0.000940             0.010150   \n",
       "7          0.000459                    0.000459             0.010609   \n",
       "8          0.000824                    0.000824             0.011433   \n",
       "9          0.000583                    0.000583             0.012016   \n",
       "\n",
       "   frame.len  frame.cap_len  frame.marked  ...  wlan.qos.priority  \\\n",
       "0       1552           1552             0  ...                  1   \n",
       "1       1552           1552             0  ...                  1   \n",
       "2         40             40             0  ...                  ?   \n",
       "3         40             40             0  ...                  ?   \n",
       "4       1552           1552             0  ...                  1   \n",
       "5       1552           1552             0  ...                  1   \n",
       "6       1552           1552             0  ...                  1   \n",
       "7       1552           1552             0  ...                  1   \n",
       "8         40             40             0  ...                  ?   \n",
       "9       1552           1552             0  ...                  1   \n",
       "\n",
       "   wlan.qos.eosp  wlan.qos.ack  wlan.qos.amsdupresent  \\\n",
       "0              0        0x0000                      0   \n",
       "1              0        0x0000                      0   \n",
       "2              ?             ?                      ?   \n",
       "3              ?             ?                      ?   \n",
       "4              0        0x0000                      0   \n",
       "5              0        0x0000                      0   \n",
       "6              0        0x0000                      0   \n",
       "7              0        0x0000                      0   \n",
       "8              ?             ?                      ?   \n",
       "9              0        0x0000                      0   \n",
       "\n",
       "   wlan.qos.buf_state_indicated1  wlan.qos.bit4  wlan.qos.txop_dur_req  \\\n",
       "0                              ?              ?                      ?   \n",
       "1                              ?              ?                      ?   \n",
       "2                              ?              ?                      ?   \n",
       "3                              ?              ?                      ?   \n",
       "4                              ?              ?                      ?   \n",
       "5                              ?              ?                      ?   \n",
       "6                              ?              ?                      ?   \n",
       "7                              ?              ?                      ?   \n",
       "8                              ?              ?                      ?   \n",
       "9                              ?              ?                      ?   \n",
       "\n",
       "   wlan.qos.buf_state_indicated2  data.len   class  \n",
       "0                              0      1488  normal  \n",
       "1                              0      1488  normal  \n",
       "2                              ?         ?  normal  \n",
       "3                              ?         ?  normal  \n",
       "4                              0      1488  normal  \n",
       "5                              0      1488  normal  \n",
       "6                              0      1488  normal  \n",
       "7                              0      1488  normal  \n",
       "8                              ?         ?  normal  \n",
       "9                              0      1488  normal  \n",
       "\n",
       "[10 rows x 155 columns]"
      ]
     },
     "execution_count": 7,
     "metadata": {},
     "output_type": "execute_result"
    }
   ],
   "source": [
    "awid_test.head(n=10)"
   ]
  },
  {
   "cell_type": "code",
   "execution_count": 8,
   "metadata": {
    "id": "A34dfgR41o29"
   },
   "outputs": [],
   "source": [
    "for col in awid.columns:\n",
    "    awid[col]=pd.to_numeric(awid[col], errors='ignore')"
   ]
  },
  {
   "cell_type": "code",
   "execution_count": 9,
   "metadata": {
    "colab": {
     "base_uri": "https://localhost:8080/"
    },
    "id": "AIQqsoIb1yo2",
    "outputId": "01c6c677-1329-43e8-e1c0-5eb3259eac7d"
   },
   "outputs": [
    {
     "data": {
      "text/plain": [
       "[]"
      ]
     },
     "execution_count": 9,
     "metadata": {},
     "output_type": "execute_result"
    }
   ],
   "source": [
    "#To check for null columns\n",
    "\n",
    "[col for col in awid.columns if awid[col].isnull().sum() > 0]\n",
    "\n",
    "#it is zero so proceed"
   ]
  },
  {
   "cell_type": "code",
   "execution_count": 10,
   "metadata": {
    "id": "Q9jzYz9Bm-Fp"
   },
   "outputs": [],
   "source": [
    "for col in awid.columns:\n",
    "  awid[col] = np.where(awid[col] == \"?\",-1,awid[col])\n",
    "\n"
   ]
  },
  {
   "cell_type": "code",
   "execution_count": 11,
   "metadata": {
    "id": "7b2yWJe8nmbb"
   },
   "outputs": [
    {
     "data": {
      "text/html": [
       "<div>\n",
       "<style scoped>\n",
       "    .dataframe tbody tr th:only-of-type {\n",
       "        vertical-align: middle;\n",
       "    }\n",
       "\n",
       "    .dataframe tbody tr th {\n",
       "        vertical-align: top;\n",
       "    }\n",
       "\n",
       "    .dataframe thead th {\n",
       "        text-align: right;\n",
       "    }\n",
       "</style>\n",
       "<table border=\"1\" class=\"dataframe\">\n",
       "  <thead>\n",
       "    <tr style=\"text-align: right;\">\n",
       "      <th></th>\n",
       "      <th>frame.interface_id</th>\n",
       "      <th>frame.dlt</th>\n",
       "      <th>frame.offset_shift</th>\n",
       "      <th>frame.time_epoch</th>\n",
       "      <th>frame.time_delta</th>\n",
       "      <th>frame.time_delta_displayed</th>\n",
       "      <th>frame.time_relative</th>\n",
       "      <th>frame.len</th>\n",
       "      <th>frame.cap_len</th>\n",
       "      <th>frame.marked</th>\n",
       "      <th>...</th>\n",
       "      <th>wlan.qos.priority</th>\n",
       "      <th>wlan.qos.eosp</th>\n",
       "      <th>wlan.qos.ack</th>\n",
       "      <th>wlan.qos.amsdupresent</th>\n",
       "      <th>wlan.qos.buf_state_indicated1</th>\n",
       "      <th>wlan.qos.bit4</th>\n",
       "      <th>wlan.qos.txop_dur_req</th>\n",
       "      <th>wlan.qos.buf_state_indicated2</th>\n",
       "      <th>data.len</th>\n",
       "      <th>class</th>\n",
       "    </tr>\n",
       "  </thead>\n",
       "  <tbody>\n",
       "    <tr>\n",
       "      <th>0</th>\n",
       "      <td>0</td>\n",
       "      <td>-1</td>\n",
       "      <td>0.0</td>\n",
       "      <td>1.393661e+09</td>\n",
       "      <td>0.000000</td>\n",
       "      <td>0.000000</td>\n",
       "      <td>0.000000</td>\n",
       "      <td>261</td>\n",
       "      <td>261</td>\n",
       "      <td>0</td>\n",
       "      <td>...</td>\n",
       "      <td>-1</td>\n",
       "      <td>-1</td>\n",
       "      <td>-1</td>\n",
       "      <td>-1</td>\n",
       "      <td>-1</td>\n",
       "      <td>-1</td>\n",
       "      <td>-1</td>\n",
       "      <td>-1</td>\n",
       "      <td>-1</td>\n",
       "      <td>normal</td>\n",
       "    </tr>\n",
       "    <tr>\n",
       "      <th>1</th>\n",
       "      <td>0</td>\n",
       "      <td>-1</td>\n",
       "      <td>0.0</td>\n",
       "      <td>1.393661e+09</td>\n",
       "      <td>0.024271</td>\n",
       "      <td>0.024271</td>\n",
       "      <td>0.024271</td>\n",
       "      <td>185</td>\n",
       "      <td>185</td>\n",
       "      <td>0</td>\n",
       "      <td>...</td>\n",
       "      <td>-1</td>\n",
       "      <td>-1</td>\n",
       "      <td>-1</td>\n",
       "      <td>-1</td>\n",
       "      <td>-1</td>\n",
       "      <td>-1</td>\n",
       "      <td>-1</td>\n",
       "      <td>-1</td>\n",
       "      <td>-1</td>\n",
       "      <td>normal</td>\n",
       "    </tr>\n",
       "    <tr>\n",
       "      <th>2</th>\n",
       "      <td>0</td>\n",
       "      <td>-1</td>\n",
       "      <td>0.0</td>\n",
       "      <td>1.393661e+09</td>\n",
       "      <td>0.001631</td>\n",
       "      <td>0.001631</td>\n",
       "      <td>0.025902</td>\n",
       "      <td>185</td>\n",
       "      <td>185</td>\n",
       "      <td>0</td>\n",
       "      <td>...</td>\n",
       "      <td>-1</td>\n",
       "      <td>-1</td>\n",
       "      <td>-1</td>\n",
       "      <td>-1</td>\n",
       "      <td>-1</td>\n",
       "      <td>-1</td>\n",
       "      <td>-1</td>\n",
       "      <td>-1</td>\n",
       "      <td>-1</td>\n",
       "      <td>normal</td>\n",
       "    </tr>\n",
       "    <tr>\n",
       "      <th>3</th>\n",
       "      <td>0</td>\n",
       "      <td>-1</td>\n",
       "      <td>0.0</td>\n",
       "      <td>1.393661e+09</td>\n",
       "      <td>0.055325</td>\n",
       "      <td>0.055325</td>\n",
       "      <td>0.081227</td>\n",
       "      <td>159</td>\n",
       "      <td>159</td>\n",
       "      <td>0</td>\n",
       "      <td>...</td>\n",
       "      <td>-1</td>\n",
       "      <td>-1</td>\n",
       "      <td>-1</td>\n",
       "      <td>-1</td>\n",
       "      <td>-1</td>\n",
       "      <td>-1</td>\n",
       "      <td>-1</td>\n",
       "      <td>-1</td>\n",
       "      <td>-1</td>\n",
       "      <td>normal</td>\n",
       "    </tr>\n",
       "    <tr>\n",
       "      <th>4</th>\n",
       "      <td>0</td>\n",
       "      <td>-1</td>\n",
       "      <td>0.0</td>\n",
       "      <td>1.393661e+09</td>\n",
       "      <td>0.000415</td>\n",
       "      <td>0.000415</td>\n",
       "      <td>0.081642</td>\n",
       "      <td>54</td>\n",
       "      <td>54</td>\n",
       "      <td>0</td>\n",
       "      <td>...</td>\n",
       "      <td>-1</td>\n",
       "      <td>-1</td>\n",
       "      <td>-1</td>\n",
       "      <td>-1</td>\n",
       "      <td>-1</td>\n",
       "      <td>-1</td>\n",
       "      <td>-1</td>\n",
       "      <td>-1</td>\n",
       "      <td>-1</td>\n",
       "      <td>normal</td>\n",
       "    </tr>\n",
       "    <tr>\n",
       "      <th>5</th>\n",
       "      <td>0</td>\n",
       "      <td>-1</td>\n",
       "      <td>0.0</td>\n",
       "      <td>1.393661e+09</td>\n",
       "      <td>0.000005</td>\n",
       "      <td>0.000005</td>\n",
       "      <td>0.081647</td>\n",
       "      <td>40</td>\n",
       "      <td>40</td>\n",
       "      <td>0</td>\n",
       "      <td>...</td>\n",
       "      <td>-1</td>\n",
       "      <td>-1</td>\n",
       "      <td>-1</td>\n",
       "      <td>-1</td>\n",
       "      <td>-1</td>\n",
       "      <td>-1</td>\n",
       "      <td>-1</td>\n",
       "      <td>-1</td>\n",
       "      <td>-1</td>\n",
       "      <td>normal</td>\n",
       "    </tr>\n",
       "    <tr>\n",
       "      <th>6</th>\n",
       "      <td>0</td>\n",
       "      <td>-1</td>\n",
       "      <td>0.0</td>\n",
       "      <td>1.393661e+09</td>\n",
       "      <td>0.016692</td>\n",
       "      <td>0.016692</td>\n",
       "      <td>0.098339</td>\n",
       "      <td>261</td>\n",
       "      <td>261</td>\n",
       "      <td>0</td>\n",
       "      <td>...</td>\n",
       "      <td>-1</td>\n",
       "      <td>-1</td>\n",
       "      <td>-1</td>\n",
       "      <td>-1</td>\n",
       "      <td>-1</td>\n",
       "      <td>-1</td>\n",
       "      <td>-1</td>\n",
       "      <td>-1</td>\n",
       "      <td>-1</td>\n",
       "      <td>normal</td>\n",
       "    </tr>\n",
       "    <tr>\n",
       "      <th>7</th>\n",
       "      <td>0</td>\n",
       "      <td>-1</td>\n",
       "      <td>0.0</td>\n",
       "      <td>1.393661e+09</td>\n",
       "      <td>0.000142</td>\n",
       "      <td>0.000142</td>\n",
       "      <td>0.098481</td>\n",
       "      <td>40</td>\n",
       "      <td>40</td>\n",
       "      <td>0</td>\n",
       "      <td>...</td>\n",
       "      <td>-1</td>\n",
       "      <td>-1</td>\n",
       "      <td>-1</td>\n",
       "      <td>-1</td>\n",
       "      <td>-1</td>\n",
       "      <td>-1</td>\n",
       "      <td>-1</td>\n",
       "      <td>-1</td>\n",
       "      <td>-1</td>\n",
       "      <td>normal</td>\n",
       "    </tr>\n",
       "    <tr>\n",
       "      <th>8</th>\n",
       "      <td>0</td>\n",
       "      <td>-1</td>\n",
       "      <td>0.0</td>\n",
       "      <td>1.393661e+09</td>\n",
       "      <td>0.028067</td>\n",
       "      <td>0.028067</td>\n",
       "      <td>0.126548</td>\n",
       "      <td>185</td>\n",
       "      <td>185</td>\n",
       "      <td>0</td>\n",
       "      <td>...</td>\n",
       "      <td>-1</td>\n",
       "      <td>-1</td>\n",
       "      <td>-1</td>\n",
       "      <td>-1</td>\n",
       "      <td>-1</td>\n",
       "      <td>-1</td>\n",
       "      <td>-1</td>\n",
       "      <td>-1</td>\n",
       "      <td>-1</td>\n",
       "      <td>normal</td>\n",
       "    </tr>\n",
       "    <tr>\n",
       "      <th>9</th>\n",
       "      <td>0</td>\n",
       "      <td>-1</td>\n",
       "      <td>0.0</td>\n",
       "      <td>1.393661e+09</td>\n",
       "      <td>0.001801</td>\n",
       "      <td>0.001801</td>\n",
       "      <td>0.128349</td>\n",
       "      <td>185</td>\n",
       "      <td>185</td>\n",
       "      <td>0</td>\n",
       "      <td>...</td>\n",
       "      <td>-1</td>\n",
       "      <td>-1</td>\n",
       "      <td>-1</td>\n",
       "      <td>-1</td>\n",
       "      <td>-1</td>\n",
       "      <td>-1</td>\n",
       "      <td>-1</td>\n",
       "      <td>-1</td>\n",
       "      <td>-1</td>\n",
       "      <td>normal</td>\n",
       "    </tr>\n",
       "    <tr>\n",
       "      <th>10</th>\n",
       "      <td>0</td>\n",
       "      <td>-1</td>\n",
       "      <td>0.0</td>\n",
       "      <td>1.393661e+09</td>\n",
       "      <td>0.012494</td>\n",
       "      <td>0.012494</td>\n",
       "      <td>0.140843</td>\n",
       "      <td>148</td>\n",
       "      <td>148</td>\n",
       "      <td>0</td>\n",
       "      <td>...</td>\n",
       "      <td>-1</td>\n",
       "      <td>-1</td>\n",
       "      <td>-1</td>\n",
       "      <td>-1</td>\n",
       "      <td>-1</td>\n",
       "      <td>-1</td>\n",
       "      <td>-1</td>\n",
       "      <td>-1</td>\n",
       "      <td>-1</td>\n",
       "      <td>normal</td>\n",
       "    </tr>\n",
       "  </tbody>\n",
       "</table>\n",
       "<p>11 rows × 155 columns</p>\n",
       "</div>"
      ],
      "text/plain": [
       "    frame.interface_id frame.dlt  frame.offset_shift  frame.time_epoch  \\\n",
       "0                    0        -1                 0.0      1.393661e+09   \n",
       "1                    0        -1                 0.0      1.393661e+09   \n",
       "2                    0        -1                 0.0      1.393661e+09   \n",
       "3                    0        -1                 0.0      1.393661e+09   \n",
       "4                    0        -1                 0.0      1.393661e+09   \n",
       "5                    0        -1                 0.0      1.393661e+09   \n",
       "6                    0        -1                 0.0      1.393661e+09   \n",
       "7                    0        -1                 0.0      1.393661e+09   \n",
       "8                    0        -1                 0.0      1.393661e+09   \n",
       "9                    0        -1                 0.0      1.393661e+09   \n",
       "10                   0        -1                 0.0      1.393661e+09   \n",
       "\n",
       "    frame.time_delta  frame.time_delta_displayed  frame.time_relative  \\\n",
       "0           0.000000                    0.000000             0.000000   \n",
       "1           0.024271                    0.024271             0.024271   \n",
       "2           0.001631                    0.001631             0.025902   \n",
       "3           0.055325                    0.055325             0.081227   \n",
       "4           0.000415                    0.000415             0.081642   \n",
       "5           0.000005                    0.000005             0.081647   \n",
       "6           0.016692                    0.016692             0.098339   \n",
       "7           0.000142                    0.000142             0.098481   \n",
       "8           0.028067                    0.028067             0.126548   \n",
       "9           0.001801                    0.001801             0.128349   \n",
       "10          0.012494                    0.012494             0.140843   \n",
       "\n",
       "    frame.len  frame.cap_len  frame.marked  ...  wlan.qos.priority  \\\n",
       "0         261            261             0  ...                 -1   \n",
       "1         185            185             0  ...                 -1   \n",
       "2         185            185             0  ...                 -1   \n",
       "3         159            159             0  ...                 -1   \n",
       "4          54             54             0  ...                 -1   \n",
       "5          40             40             0  ...                 -1   \n",
       "6         261            261             0  ...                 -1   \n",
       "7          40             40             0  ...                 -1   \n",
       "8         185            185             0  ...                 -1   \n",
       "9         185            185             0  ...                 -1   \n",
       "10        148            148             0  ...                 -1   \n",
       "\n",
       "    wlan.qos.eosp  wlan.qos.ack  wlan.qos.amsdupresent  \\\n",
       "0              -1            -1                     -1   \n",
       "1              -1            -1                     -1   \n",
       "2              -1            -1                     -1   \n",
       "3              -1            -1                     -1   \n",
       "4              -1            -1                     -1   \n",
       "5              -1            -1                     -1   \n",
       "6              -1            -1                     -1   \n",
       "7              -1            -1                     -1   \n",
       "8              -1            -1                     -1   \n",
       "9              -1            -1                     -1   \n",
       "10             -1            -1                     -1   \n",
       "\n",
       "    wlan.qos.buf_state_indicated1  wlan.qos.bit4  wlan.qos.txop_dur_req  \\\n",
       "0                              -1             -1                     -1   \n",
       "1                              -1             -1                     -1   \n",
       "2                              -1             -1                     -1   \n",
       "3                              -1             -1                     -1   \n",
       "4                              -1             -1                     -1   \n",
       "5                              -1             -1                     -1   \n",
       "6                              -1             -1                     -1   \n",
       "7                              -1             -1                     -1   \n",
       "8                              -1             -1                     -1   \n",
       "9                              -1             -1                     -1   \n",
       "10                             -1             -1                     -1   \n",
       "\n",
       "    wlan.qos.buf_state_indicated2  data.len   class  \n",
       "0                              -1        -1  normal  \n",
       "1                              -1        -1  normal  \n",
       "2                              -1        -1  normal  \n",
       "3                              -1        -1  normal  \n",
       "4                              -1        -1  normal  \n",
       "5                              -1        -1  normal  \n",
       "6                              -1        -1  normal  \n",
       "7                              -1        -1  normal  \n",
       "8                              -1        -1  normal  \n",
       "9                              -1        -1  normal  \n",
       "10                             -1        -1  normal  \n",
       "\n",
       "[11 rows x 155 columns]"
      ]
     },
     "execution_count": 11,
     "metadata": {},
     "output_type": "execute_result"
    }
   ],
   "source": [
    "awid.head(n=11)"
   ]
  },
  {
   "cell_type": "code",
   "execution_count": 12,
   "metadata": {
    "id": "8eJXzPUbANt7"
   },
   "outputs": [],
   "source": [
    "for col in awid_test.columns:\n",
    "    awid_test[col]=pd.to_numeric(awid_test[col], errors='ignore')"
   ]
  },
  {
   "cell_type": "code",
   "execution_count": 13,
   "metadata": {
    "colab": {
     "base_uri": "https://localhost:8080/"
    },
    "id": "JNsqpfD0ANuB",
    "outputId": "98b0fb5d-f834-43b9-d972-ee141f4ffcb6"
   },
   "outputs": [
    {
     "data": {
      "text/plain": [
       "[]"
      ]
     },
     "execution_count": 13,
     "metadata": {},
     "output_type": "execute_result"
    }
   ],
   "source": [
    "#To check for null columns\n",
    "\n",
    "[col for col in awid_test.columns if awid_test[col].isnull().sum() > 0]\n",
    "\n",
    "#it is zero so proceed"
   ]
  },
  {
   "cell_type": "code",
   "execution_count": 14,
   "metadata": {},
   "outputs": [],
   "source": [
    "for col in awid_test.columns:\n",
    "  awid_test[col] = np.where(awid_test[col] == \"?\",-1,awid_test[col])"
   ]
  },
  {
   "cell_type": "code",
   "execution_count": 15,
   "metadata": {
    "colab": {
     "base_uri": "https://localhost:8080/",
     "height": 456
    },
    "id": "qrWqG5oPm2YW",
    "outputId": "24a1159b-2f59-41da-c324-c84d6dfb58b7"
   },
   "outputs": [
    {
     "data": {
      "text/html": [
       "<div>\n",
       "<style scoped>\n",
       "    .dataframe tbody tr th:only-of-type {\n",
       "        vertical-align: middle;\n",
       "    }\n",
       "\n",
       "    .dataframe tbody tr th {\n",
       "        vertical-align: top;\n",
       "    }\n",
       "\n",
       "    .dataframe thead th {\n",
       "        text-align: right;\n",
       "    }\n",
       "</style>\n",
       "<table border=\"1\" class=\"dataframe\">\n",
       "  <thead>\n",
       "    <tr style=\"text-align: right;\">\n",
       "      <th></th>\n",
       "      <th>frame.interface_id</th>\n",
       "      <th>frame.dlt</th>\n",
       "      <th>frame.offset_shift</th>\n",
       "      <th>frame.time_epoch</th>\n",
       "      <th>frame.time_delta</th>\n",
       "      <th>frame.time_delta_displayed</th>\n",
       "      <th>frame.time_relative</th>\n",
       "      <th>frame.len</th>\n",
       "      <th>frame.cap_len</th>\n",
       "      <th>frame.marked</th>\n",
       "      <th>...</th>\n",
       "      <th>wlan.qos.priority</th>\n",
       "      <th>wlan.qos.eosp</th>\n",
       "      <th>wlan.qos.ack</th>\n",
       "      <th>wlan.qos.amsdupresent</th>\n",
       "      <th>wlan.qos.buf_state_indicated1</th>\n",
       "      <th>wlan.qos.bit4</th>\n",
       "      <th>wlan.qos.txop_dur_req</th>\n",
       "      <th>wlan.qos.buf_state_indicated2</th>\n",
       "      <th>data.len</th>\n",
       "      <th>class</th>\n",
       "    </tr>\n",
       "  </thead>\n",
       "  <tbody>\n",
       "    <tr>\n",
       "      <th>0</th>\n",
       "      <td>0</td>\n",
       "      <td>-1</td>\n",
       "      <td>0.0</td>\n",
       "      <td>1.393668e+09</td>\n",
       "      <td>0.000000</td>\n",
       "      <td>0.000000</td>\n",
       "      <td>0.000000</td>\n",
       "      <td>1552</td>\n",
       "      <td>1552</td>\n",
       "      <td>0</td>\n",
       "      <td>...</td>\n",
       "      <td>1</td>\n",
       "      <td>0</td>\n",
       "      <td>0x0000</td>\n",
       "      <td>0</td>\n",
       "      <td>-1</td>\n",
       "      <td>-1</td>\n",
       "      <td>-1</td>\n",
       "      <td>0</td>\n",
       "      <td>1488</td>\n",
       "      <td>normal</td>\n",
       "    </tr>\n",
       "    <tr>\n",
       "      <th>1</th>\n",
       "      <td>0</td>\n",
       "      <td>-1</td>\n",
       "      <td>0.0</td>\n",
       "      <td>1.393668e+09</td>\n",
       "      <td>0.001056</td>\n",
       "      <td>0.001056</td>\n",
       "      <td>0.001056</td>\n",
       "      <td>1552</td>\n",
       "      <td>1552</td>\n",
       "      <td>0</td>\n",
       "      <td>...</td>\n",
       "      <td>1</td>\n",
       "      <td>0</td>\n",
       "      <td>0x0000</td>\n",
       "      <td>0</td>\n",
       "      <td>-1</td>\n",
       "      <td>-1</td>\n",
       "      <td>-1</td>\n",
       "      <td>0</td>\n",
       "      <td>1488</td>\n",
       "      <td>normal</td>\n",
       "    </tr>\n",
       "    <tr>\n",
       "      <th>2</th>\n",
       "      <td>0</td>\n",
       "      <td>-1</td>\n",
       "      <td>0.0</td>\n",
       "      <td>1.393668e+09</td>\n",
       "      <td>0.000141</td>\n",
       "      <td>0.000141</td>\n",
       "      <td>0.001197</td>\n",
       "      <td>40</td>\n",
       "      <td>40</td>\n",
       "      <td>0</td>\n",
       "      <td>...</td>\n",
       "      <td>-1</td>\n",
       "      <td>-1</td>\n",
       "      <td>-1</td>\n",
       "      <td>-1</td>\n",
       "      <td>-1</td>\n",
       "      <td>-1</td>\n",
       "      <td>-1</td>\n",
       "      <td>-1</td>\n",
       "      <td>-1</td>\n",
       "      <td>normal</td>\n",
       "    </tr>\n",
       "    <tr>\n",
       "      <th>3</th>\n",
       "      <td>0</td>\n",
       "      <td>-1</td>\n",
       "      <td>0.0</td>\n",
       "      <td>1.393668e+09</td>\n",
       "      <td>0.000156</td>\n",
       "      <td>0.000156</td>\n",
       "      <td>0.001353</td>\n",
       "      <td>40</td>\n",
       "      <td>40</td>\n",
       "      <td>0</td>\n",
       "      <td>...</td>\n",
       "      <td>-1</td>\n",
       "      <td>-1</td>\n",
       "      <td>-1</td>\n",
       "      <td>-1</td>\n",
       "      <td>-1</td>\n",
       "      <td>-1</td>\n",
       "      <td>-1</td>\n",
       "      <td>-1</td>\n",
       "      <td>-1</td>\n",
       "      <td>normal</td>\n",
       "    </tr>\n",
       "    <tr>\n",
       "      <th>4</th>\n",
       "      <td>0</td>\n",
       "      <td>-1</td>\n",
       "      <td>0.0</td>\n",
       "      <td>1.393668e+09</td>\n",
       "      <td>0.001842</td>\n",
       "      <td>0.001842</td>\n",
       "      <td>0.003195</td>\n",
       "      <td>1552</td>\n",
       "      <td>1552</td>\n",
       "      <td>0</td>\n",
       "      <td>...</td>\n",
       "      <td>1</td>\n",
       "      <td>0</td>\n",
       "      <td>0x0000</td>\n",
       "      <td>0</td>\n",
       "      <td>-1</td>\n",
       "      <td>-1</td>\n",
       "      <td>-1</td>\n",
       "      <td>0</td>\n",
       "      <td>1488</td>\n",
       "      <td>normal</td>\n",
       "    </tr>\n",
       "    <tr>\n",
       "      <th>5</th>\n",
       "      <td>0</td>\n",
       "      <td>-1</td>\n",
       "      <td>0.0</td>\n",
       "      <td>1.393668e+09</td>\n",
       "      <td>0.006015</td>\n",
       "      <td>0.006015</td>\n",
       "      <td>0.009210</td>\n",
       "      <td>1552</td>\n",
       "      <td>1552</td>\n",
       "      <td>0</td>\n",
       "      <td>...</td>\n",
       "      <td>1</td>\n",
       "      <td>0</td>\n",
       "      <td>0x0000</td>\n",
       "      <td>0</td>\n",
       "      <td>-1</td>\n",
       "      <td>-1</td>\n",
       "      <td>-1</td>\n",
       "      <td>0</td>\n",
       "      <td>1488</td>\n",
       "      <td>normal</td>\n",
       "    </tr>\n",
       "    <tr>\n",
       "      <th>6</th>\n",
       "      <td>0</td>\n",
       "      <td>-1</td>\n",
       "      <td>0.0</td>\n",
       "      <td>1.393668e+09</td>\n",
       "      <td>0.000940</td>\n",
       "      <td>0.000940</td>\n",
       "      <td>0.010150</td>\n",
       "      <td>1552</td>\n",
       "      <td>1552</td>\n",
       "      <td>0</td>\n",
       "      <td>...</td>\n",
       "      <td>1</td>\n",
       "      <td>0</td>\n",
       "      <td>0x0000</td>\n",
       "      <td>0</td>\n",
       "      <td>-1</td>\n",
       "      <td>-1</td>\n",
       "      <td>-1</td>\n",
       "      <td>0</td>\n",
       "      <td>1488</td>\n",
       "      <td>normal</td>\n",
       "    </tr>\n",
       "    <tr>\n",
       "      <th>7</th>\n",
       "      <td>0</td>\n",
       "      <td>-1</td>\n",
       "      <td>0.0</td>\n",
       "      <td>1.393668e+09</td>\n",
       "      <td>0.000459</td>\n",
       "      <td>0.000459</td>\n",
       "      <td>0.010609</td>\n",
       "      <td>1552</td>\n",
       "      <td>1552</td>\n",
       "      <td>0</td>\n",
       "      <td>...</td>\n",
       "      <td>1</td>\n",
       "      <td>0</td>\n",
       "      <td>0x0000</td>\n",
       "      <td>0</td>\n",
       "      <td>-1</td>\n",
       "      <td>-1</td>\n",
       "      <td>-1</td>\n",
       "      <td>0</td>\n",
       "      <td>1488</td>\n",
       "      <td>normal</td>\n",
       "    </tr>\n",
       "    <tr>\n",
       "      <th>8</th>\n",
       "      <td>0</td>\n",
       "      <td>-1</td>\n",
       "      <td>0.0</td>\n",
       "      <td>1.393668e+09</td>\n",
       "      <td>0.000824</td>\n",
       "      <td>0.000824</td>\n",
       "      <td>0.011433</td>\n",
       "      <td>40</td>\n",
       "      <td>40</td>\n",
       "      <td>0</td>\n",
       "      <td>...</td>\n",
       "      <td>-1</td>\n",
       "      <td>-1</td>\n",
       "      <td>-1</td>\n",
       "      <td>-1</td>\n",
       "      <td>-1</td>\n",
       "      <td>-1</td>\n",
       "      <td>-1</td>\n",
       "      <td>-1</td>\n",
       "      <td>-1</td>\n",
       "      <td>normal</td>\n",
       "    </tr>\n",
       "    <tr>\n",
       "      <th>9</th>\n",
       "      <td>0</td>\n",
       "      <td>-1</td>\n",
       "      <td>0.0</td>\n",
       "      <td>1.393668e+09</td>\n",
       "      <td>0.000583</td>\n",
       "      <td>0.000583</td>\n",
       "      <td>0.012016</td>\n",
       "      <td>1552</td>\n",
       "      <td>1552</td>\n",
       "      <td>0</td>\n",
       "      <td>...</td>\n",
       "      <td>1</td>\n",
       "      <td>0</td>\n",
       "      <td>0x0000</td>\n",
       "      <td>0</td>\n",
       "      <td>-1</td>\n",
       "      <td>-1</td>\n",
       "      <td>-1</td>\n",
       "      <td>0</td>\n",
       "      <td>1488</td>\n",
       "      <td>normal</td>\n",
       "    </tr>\n",
       "  </tbody>\n",
       "</table>\n",
       "<p>10 rows × 155 columns</p>\n",
       "</div>"
      ],
      "text/plain": [
       "   frame.interface_id frame.dlt  frame.offset_shift  frame.time_epoch  \\\n",
       "0                   0        -1                 0.0      1.393668e+09   \n",
       "1                   0        -1                 0.0      1.393668e+09   \n",
       "2                   0        -1                 0.0      1.393668e+09   \n",
       "3                   0        -1                 0.0      1.393668e+09   \n",
       "4                   0        -1                 0.0      1.393668e+09   \n",
       "5                   0        -1                 0.0      1.393668e+09   \n",
       "6                   0        -1                 0.0      1.393668e+09   \n",
       "7                   0        -1                 0.0      1.393668e+09   \n",
       "8                   0        -1                 0.0      1.393668e+09   \n",
       "9                   0        -1                 0.0      1.393668e+09   \n",
       "\n",
       "   frame.time_delta  frame.time_delta_displayed  frame.time_relative  \\\n",
       "0          0.000000                    0.000000             0.000000   \n",
       "1          0.001056                    0.001056             0.001056   \n",
       "2          0.000141                    0.000141             0.001197   \n",
       "3          0.000156                    0.000156             0.001353   \n",
       "4          0.001842                    0.001842             0.003195   \n",
       "5          0.006015                    0.006015             0.009210   \n",
       "6          0.000940                    0.000940             0.010150   \n",
       "7          0.000459                    0.000459             0.010609   \n",
       "8          0.000824                    0.000824             0.011433   \n",
       "9          0.000583                    0.000583             0.012016   \n",
       "\n",
       "   frame.len  frame.cap_len  frame.marked  ...  wlan.qos.priority  \\\n",
       "0       1552           1552             0  ...                  1   \n",
       "1       1552           1552             0  ...                  1   \n",
       "2         40             40             0  ...                 -1   \n",
       "3         40             40             0  ...                 -1   \n",
       "4       1552           1552             0  ...                  1   \n",
       "5       1552           1552             0  ...                  1   \n",
       "6       1552           1552             0  ...                  1   \n",
       "7       1552           1552             0  ...                  1   \n",
       "8         40             40             0  ...                 -1   \n",
       "9       1552           1552             0  ...                  1   \n",
       "\n",
       "   wlan.qos.eosp  wlan.qos.ack  wlan.qos.amsdupresent  \\\n",
       "0              0        0x0000                      0   \n",
       "1              0        0x0000                      0   \n",
       "2             -1            -1                     -1   \n",
       "3             -1            -1                     -1   \n",
       "4              0        0x0000                      0   \n",
       "5              0        0x0000                      0   \n",
       "6              0        0x0000                      0   \n",
       "7              0        0x0000                      0   \n",
       "8             -1            -1                     -1   \n",
       "9              0        0x0000                      0   \n",
       "\n",
       "   wlan.qos.buf_state_indicated1  wlan.qos.bit4  wlan.qos.txop_dur_req  \\\n",
       "0                             -1             -1                     -1   \n",
       "1                             -1             -1                     -1   \n",
       "2                             -1             -1                     -1   \n",
       "3                             -1             -1                     -1   \n",
       "4                             -1             -1                     -1   \n",
       "5                             -1             -1                     -1   \n",
       "6                             -1             -1                     -1   \n",
       "7                             -1             -1                     -1   \n",
       "8                             -1             -1                     -1   \n",
       "9                             -1             -1                     -1   \n",
       "\n",
       "   wlan.qos.buf_state_indicated2  data.len   class  \n",
       "0                              0      1488  normal  \n",
       "1                              0      1488  normal  \n",
       "2                             -1        -1  normal  \n",
       "3                             -1        -1  normal  \n",
       "4                              0      1488  normal  \n",
       "5                              0      1488  normal  \n",
       "6                              0      1488  normal  \n",
       "7                              0      1488  normal  \n",
       "8                             -1        -1  normal  \n",
       "9                              0      1488  normal  \n",
       "\n",
       "[10 rows x 155 columns]"
      ]
     },
     "execution_count": 15,
     "metadata": {},
     "output_type": "execute_result"
    }
   ],
   "source": [
    "awid_test.head(n=10)"
   ]
  },
  {
   "cell_type": "code",
   "execution_count": 16,
   "metadata": {
    "colab": {
     "base_uri": "https://localhost:8080/"
    },
    "id": "9gz1lgs42CPq",
    "outputId": "e75b1086-871f-42fb-fa2a-d914203db2d1"
   },
   "outputs": [
    {
     "data": {
      "text/plain": [
       "(1795575,)"
      ]
     },
     "execution_count": 16,
     "metadata": {},
     "output_type": "execute_result"
    }
   ],
   "source": [
    "# X_train, y_train = awid.select_dtypes(['int']), awid['class']\n",
    "\n",
    "X_train,y_train=awid.iloc[:,:-1],awid.iloc[:,-1]\n",
    "X_train.shape\n",
    "y_train.shape\n"
   ]
  },
  {
   "cell_type": "code",
   "execution_count": null,
   "metadata": {},
   "outputs": [],
   "source": []
  },
  {
   "cell_type": "code",
   "execution_count": 17,
   "metadata": {
    "colab": {
     "base_uri": "https://localhost:8080/"
    },
    "id": "_cIc8ERz2Hr6",
    "outputId": "5bf0d6a2-349f-4190-b320-85a6af342586"
   },
   "outputs": [
    {
     "data": {
      "text/plain": [
       "normal           1633190\n",
       "injection          65379\n",
       "impersonation      48522\n",
       "flooding           48484\n",
       "Name: class, dtype: int64"
      ]
     },
     "execution_count": 17,
     "metadata": {},
     "output_type": "execute_result"
    }
   ],
   "source": [
    "y_train.value_counts()"
   ]
  },
  {
   "cell_type": "code",
   "execution_count": 18,
   "metadata": {
    "id": "MRs7bW7h2I4N",
    "scrolled": true
   },
   "outputs": [],
   "source": [
    "# X_train.value_counts()"
   ]
  },
  {
   "cell_type": "code",
   "execution_count": 19,
   "metadata": {
    "colab": {
     "base_uri": "https://localhost:8080/"
    },
    "id": "Pr89PZjf2WTW",
    "outputId": "75913892-7d33-4f1a-beef-331d93610f4a"
   },
   "outputs": [
    {
     "data": {
      "text/plain": [
       "(1795575, 154)"
      ]
     },
     "execution_count": 19,
     "metadata": {},
     "output_type": "execute_result"
    }
   ],
   "source": [
    "X_train.shape\n"
   ]
  },
  {
   "cell_type": "code",
   "execution_count": 20,
   "metadata": {
    "colab": {
     "base_uri": "https://localhost:8080/"
    },
    "id": "hUolQfLh2cbQ",
    "outputId": "f58cfd77-3391-4356-c51b-8d8036a793e0"
   },
   "outputs": [
    {
     "data": {
      "text/plain": [
       "(1795575,)"
      ]
     },
     "execution_count": 20,
     "metadata": {},
     "output_type": "execute_result"
    }
   ],
   "source": [
    "y_train.shape"
   ]
  },
  {
   "cell_type": "code",
   "execution_count": 21,
   "metadata": {
    "id": "C5U5IWWQAkWP"
   },
   "outputs": [
    {
     "data": {
      "text/plain": [
       "(575643,)"
      ]
     },
     "execution_count": 21,
     "metadata": {},
     "output_type": "execute_result"
    }
   ],
   "source": [
    "# X_test, y_test = awid_test.select_dtypes(['number']), awid_test['class']\n",
    "\n",
    "X_test,y_test=awid_test.iloc[:,:-1],awid_test.iloc[:,-1]\n",
    "X_test.shape\n",
    "y_test.shape\n"
   ]
  },
  {
   "cell_type": "code",
   "execution_count": 22,
   "metadata": {
    "colab": {
     "base_uri": "https://localhost:8080/"
    },
    "id": "Mwt5TBXfAkWQ",
    "outputId": "6d11051d-595b-4fc7-ba1c-7ffd62971488"
   },
   "outputs": [
    {
     "data": {
      "text/plain": [
       "normal           530785\n",
       "impersonation     20079\n",
       "injection         16682\n",
       "flooding           8097\n",
       "Name: class, dtype: int64"
      ]
     },
     "execution_count": 22,
     "metadata": {},
     "output_type": "execute_result"
    }
   ],
   "source": [
    "y_test.value_counts()"
   ]
  },
  {
   "cell_type": "code",
   "execution_count": 23,
   "metadata": {
    "colab": {
     "base_uri": "https://localhost:8080/"
    },
    "id": "MLhu9hIOAkWS",
    "outputId": "7ed2550b-1dad-45bf-8d2f-24c8f13f04ec",
    "scrolled": true
   },
   "outputs": [],
   "source": [
    "# X_test.value_counts()"
   ]
  },
  {
   "cell_type": "code",
   "execution_count": 24,
   "metadata": {
    "colab": {
     "base_uri": "https://localhost:8080/"
    },
    "id": "Rjo3DN85AkWS",
    "outputId": "f95415f6-38f1-4a97-9517-428630ce8c54"
   },
   "outputs": [
    {
     "data": {
      "text/plain": [
       "(575643, 154)"
      ]
     },
     "execution_count": 24,
     "metadata": {},
     "output_type": "execute_result"
    }
   ],
   "source": [
    "X_test.shape\n"
   ]
  },
  {
   "cell_type": "code",
   "execution_count": null,
   "metadata": {},
   "outputs": [],
   "source": []
  },
  {
   "cell_type": "code",
   "execution_count": 25,
   "metadata": {
    "colab": {
     "base_uri": "https://localhost:8080/"
    },
    "id": "C-3lIA2uAkWT",
    "outputId": "159b5967-5faa-40a3-d3a9-e8e08f0a189e"
   },
   "outputs": [
    {
     "data": {
      "text/plain": [
       "(575643,)"
      ]
     },
     "execution_count": 25,
     "metadata": {},
     "output_type": "execute_result"
    }
   ],
   "source": [
    "y_test.shape"
   ]
  },
  {
   "cell_type": "code",
   "execution_count": 26,
   "metadata": {
    "id": "COrFldgmAaxQ"
   },
   "outputs": [],
   "source": [
    "# Keep a copy of the dataset with all the variables\n",
    "# to measure the performance of machine learning models\n",
    "# at the end of the notebook\n",
    "\n",
    "X_train_original = X_train.copy()\n",
    "X_test_original = X_test.copy()"
   ]
  },
  {
   "cell_type": "code",
   "execution_count": 27,
   "metadata": {},
   "outputs": [
    {
     "name": "stdout",
     "output_type": "stream",
     "text": [
      "radiotap.present.reserved 0x00000000 <class 'str'>\n",
      "radiotap.mactime 2101598203 <class 'str'>\n",
      "radiotap.flags.cfp 0 <class 'str'>\n",
      "radiotap.flags.preamble 0 <class 'str'>\n",
      "radiotap.flags.wep 0 <class 'str'>\n",
      "radiotap.flags.frag 0 <class 'str'>\n",
      "radiotap.flags.fcs 1 <class 'str'>\n",
      "radiotap.flags.datapad 0 <class 'str'>\n",
      "radiotap.flags.badfcs 0 <class 'str'>\n",
      "radiotap.flags.shortgi 0 <class 'str'>\n",
      "radiotap.channel.freq 2437 <class 'str'>\n",
      "radiotap.channel.type.turbo 0 <class 'str'>\n",
      "radiotap.channel.type.cck 1 <class 'str'>\n",
      "radiotap.channel.type.ofdm 0 <class 'str'>\n",
      "radiotap.channel.type.2ghz 1 <class 'str'>\n",
      "radiotap.channel.type.5ghz 0 <class 'str'>\n",
      "radiotap.channel.type.passive 0 <class 'str'>\n",
      "radiotap.channel.type.dynamic 0 <class 'str'>\n",
      "radiotap.channel.type.gfsk 0 <class 'str'>\n",
      "radiotap.channel.type.gsm 0 <class 'str'>\n",
      "radiotap.channel.type.sturbo 0 <class 'str'>\n",
      "radiotap.channel.type.half 0 <class 'str'>\n",
      "radiotap.channel.type.quarter 0 <class 'str'>\n",
      "radiotap.dbm_antsignal -47 <class 'str'>\n",
      "radiotap.antenna 1 <class 'str'>\n",
      "radiotap.rxflags.badplcp 0 <class 'str'>\n",
      "wlan.fc.type_subtype 0x08 <class 'str'>\n",
      "wlan.fc.ds 0x00 <class 'str'>\n",
      "wlan.duration 0 <class 'str'>\n",
      "wlan.ra ff:ff:ff:ff:ff:ff <class 'str'>\n",
      "wlan.da ff:ff:ff:ff:ff:ff <class 'str'>\n",
      "wlan.ta b0:48:7a:e2:62:23 <class 'str'>\n",
      "wlan.sa b0:48:7a:e2:62:23 <class 'str'>\n",
      "wlan.bssid b0:48:7a:e2:62:23 <class 'str'>\n",
      "wlan.frag 0 <class 'str'>\n",
      "wlan.seq 2851 <class 'str'>\n",
      "wlan.fcs_good 1 <class 'str'>\n",
      "wlan_mgt.fixed.capabilities.ess 1 <class 'str'>\n",
      "wlan_mgt.fixed.capabilities.ibss 0 <class 'str'>\n",
      "wlan_mgt.fixed.capabilities.cfpoll.ap 0x0000 <class 'str'>\n",
      "wlan_mgt.fixed.capabilities.privacy 0 <class 'str'>\n",
      "wlan_mgt.fixed.capabilities.preamble 1 <class 'str'>\n",
      "wlan_mgt.fixed.capabilities.pbcc 0 <class 'str'>\n",
      "wlan_mgt.fixed.capabilities.agility 0 <class 'str'>\n",
      "wlan_mgt.fixed.capabilities.spec_man 0 <class 'str'>\n",
      "wlan_mgt.fixed.capabilities.short_slot_time 1 <class 'str'>\n",
      "wlan_mgt.fixed.capabilities.apsd 0 <class 'str'>\n",
      "wlan_mgt.fixed.capabilities.radio_measurement 0 <class 'str'>\n",
      "wlan_mgt.fixed.capabilities.dsss_ofdm 0 <class 'str'>\n",
      "wlan_mgt.fixed.capabilities.del_blk_ack 0 <class 'str'>\n",
      "wlan_mgt.fixed.capabilities.imm_blk_ack 0 <class 'str'>\n",
      "wlan_mgt.fixed.timestamp 0x0000000011490d80 <class 'str'>\n",
      "wlan_mgt.fixed.beacon 100 <class 'str'>\n",
      "wlan_mgt.tagged.all 1 <class 'str'>\n",
      "wlan_mgt.ssid pnet <class 'str'>\n",
      "wlan_mgt.ds.current_channel 6 <class 'str'>\n",
      "wlan_mgt.tim.dtim_count 0 <class 'str'>\n",
      "wlan_mgt.tim.dtim_period 1 <class 'str'>\n",
      "wlan_mgt.tim.bmapctl.multicast 0 <class 'str'>\n",
      "wlan_mgt.tim.bmapctl.offset 0x00 <class 'str'>\n"
     ]
    }
   ],
   "source": [
    "cols=[]\n",
    "for i in range(len(X_train.columns)):\n",
    "    if str(type(X_train.iloc[0,i]))==\"<class 'str'>\":\n",
    "        print(X_train.columns[i],X_train.iloc[0,i],type(X_train.iloc[0,i]))\n",
    "    else:\n",
    "        cols.append(X_train.columns[i])"
   ]
  },
  {
   "cell_type": "code",
   "execution_count": 28,
   "metadata": {},
   "outputs": [],
   "source": [
    "for i in range(len(cols)):\n",
    "    if str(type(X_train.loc[0,cols[i]]))==\"<class 'str'>\":\n",
    "        print(X_train.columns[i],X_train.iloc[0,i],type(X_train.iloc[0,i]))\n",
    "#     else:\n",
    "#         cols.append(X_train.columns[i])"
   ]
  },
  {
   "cell_type": "markdown",
   "metadata": {
    "id": "dALidEX9A9wm"
   },
   "source": [
    "### **Removing Cinstant features**"
   ]
  },
  {
   "cell_type": "code",
   "execution_count": 29,
   "metadata": {
    "scrolled": false
   },
   "outputs": [
    {
     "name": "stdout",
     "output_type": "stream",
     "text": [
      "wlan_mgt.rsn.version 1\n",
      "<class 'str'>\n",
      "wlan_mgt.rsn.gcs.type 2\n",
      "<class 'str'>\n",
      "wlan_mgt.rsn.pcs.count 2\n",
      "<class 'str'>\n",
      "wlan_mgt.rsn.akms.count 1\n",
      "<class 'str'>\n",
      "wlan_mgt.rsn.akms.type 2\n",
      "<class 'str'>\n",
      "wlan_mgt.rsn.capabilities.preauth 0\n",
      "<class 'str'>\n",
      "wlan_mgt.rsn.capabilities.no_pairwise 0\n",
      "<class 'str'>\n",
      "wlan_mgt.rsn.capabilities.ptksa_replay_counter 0x0000\n",
      "<class 'str'>\n",
      "wlan_mgt.rsn.capabilities.gtksa_replay_counter 0x0000\n",
      "<class 'str'>\n",
      "wlan_mgt.rsn.capabilities.mfpr 0\n",
      "<class 'str'>\n",
      "wlan_mgt.rsn.capabilities.mfpc 0\n",
      "<class 'str'>\n",
      "wlan_mgt.rsn.capabilities.peerkey 0\n",
      "<class 'str'>\n"
     ]
    }
   ],
   "source": [
    "\n",
    "# constant_features = [\n",
    "#     feat for feat in cols1 if X_train[feat].std() == 0\n",
    "# ]\n",
    "cols1=[]\n",
    "for feat in cols:\n",
    "    if str(type(X_train.loc[1,feat]))==\"<class 'str'>\":\n",
    "        print(feat, X_train.loc[1,feat])\n",
    "        print(type(X_train.loc[1,feat]))\n",
    "    else:\n",
    "        cols1.append(feat)\n"
   ]
  },
  {
   "cell_type": "code",
   "execution_count": 30,
   "metadata": {},
   "outputs": [
    {
     "name": "stdout",
     "output_type": "stream",
     "text": [
      "wlan.bar.type\n",
      "wlan.ba.control.ackpolicy\n",
      "wlan.ba.control.multitid\n",
      "wlan.ba.control.cbitmap\n",
      "wlan.bar.compressed.tidinfo\n",
      "wlan.ba.bm\n",
      "wlan_mgt.fixed.listen_ival\n",
      "wlan_mgt.fixed.current_ap\n",
      "wlan_mgt.fixed.status_code\n",
      "wlan_mgt.fixed.aid\n",
      "wlan_mgt.fixed.reason_code\n",
      "wlan_mgt.fixed.auth.alg\n",
      "wlan_mgt.fixed.auth_seq\n",
      "wlan_mgt.fixed.category_code\n",
      "wlan_mgt.fixed.htact\n",
      "wlan_mgt.fixed.chanwidth\n",
      "wlan_mgt.fixed.fragment\n",
      "wlan_mgt.fixed.sequence\n",
      "wlan_mgt.country_info.environment\n",
      "wlan_mgt.tcprep.trsmt_pow\n",
      "wlan_mgt.tcprep.link_mrg\n",
      "wlan.wep.iv\n",
      "wlan.wep.key\n",
      "wlan.wep.icv\n",
      "wlan.tkip.extiv\n",
      "wlan.ccmp.extiv\n",
      "wlan.qos.tid\n",
      "wlan.qos.priority\n",
      "wlan.qos.eosp\n",
      "wlan.qos.ack\n",
      "wlan.qos.amsdupresent\n",
      "wlan.qos.bit4\n",
      "wlan.qos.txop_dur_req\n",
      "wlan.qos.buf_state_indicated2\n",
      "data.len\n"
     ]
    }
   ],
   "source": [
    "constant_features=[]\n",
    "str_col=[]\n",
    "for feat in cols1:\n",
    "    try:\n",
    "        if X_train[feat].std() == 0:\n",
    "            constant_features.append(feat)\n",
    "    except:\n",
    "        print(feat)\n",
    "        str_col.append(feat)"
   ]
  },
  {
   "cell_type": "code",
   "execution_count": 31,
   "metadata": {
    "colab": {
     "base_uri": "https://localhost:8080/",
     "height": 432
    },
    "id": "136KZLkW_rYP",
    "outputId": "8f83f549-71bc-48fd-cbc5-d39a8b905915"
   },
   "outputs": [
    {
     "data": {
      "text/plain": [
       "((1795575, 128), (575643, 128))"
      ]
     },
     "execution_count": 31,
     "metadata": {},
     "output_type": "execute_result"
    }
   ],
   "source": [
    "# remove constant features\n",
    "\n",
    "X_train.drop(labels=constant_features, axis=1, inplace=True)\n",
    "X_test.drop(labels=constant_features, axis=1, inplace=True)\n",
    "\n",
    "X_train.shape, X_test.shape"
   ]
  },
  {
   "cell_type": "markdown",
   "metadata": {
    "id": "oWG6KSI0BFcb"
   },
   "source": [
    "### **Removing Quasi cnstant features**"
   ]
  },
  {
   "cell_type": "code",
   "execution_count": 32,
   "metadata": {
    "id": "AQy5m1DFBI2Q"
   },
   "outputs": [],
   "source": [
    "# # remove quasi-constant features\n",
    "# # 0.1 indicates 99% of observations approximately\n",
    "# sel = VarianceThreshold(threshold=0.01)  \n",
    "# # fit finds the features with low variance\n",
    "# sel.fit(X_train)  \n",
    "# # how many not quasi-constant?\n",
    "# sum(sel.get_support()) "
   ]
  },
  {
   "cell_type": "code",
   "execution_count": 33,
   "metadata": {
    "id": "j-YNSA-vBKVM"
   },
   "outputs": [],
   "source": [
    "# features_to_keep = X_train.columns[sel.get_support()]\n",
    "# # we can then remove the features like this\n",
    "# X_train = sel.transform(X_train)\n",
    "# X_test = sel.transform(X_test)\n",
    "\n",
    "# X_train.shape, X_test.shape"
   ]
  },
  {
   "cell_type": "code",
   "execution_count": 34,
   "metadata": {
    "id": "XPEnRx7cBQWn"
   },
   "outputs": [],
   "source": [
    "# # sklearn transformations lead to numpy arrays\n",
    "# # here we transform the arrays back to dataframes\n",
    "# # please be mindful of getting the columns assigned\n",
    "# # correctly\n",
    "\n",
    "# X_train= pd.DataFrame(X_train)\n",
    "# X_train.columns = features_to_keep\n",
    "\n",
    "# X_test= pd.DataFrame(X_test)\n",
    "# X_test.columns = features_to_keep"
   ]
  },
  {
   "cell_type": "markdown",
   "metadata": {
    "id": "VJbYEbVBBWhi"
   },
   "source": [
    "### **Removing dupliacted features**"
   ]
  },
  {
   "cell_type": "code",
   "execution_count": 35,
   "metadata": {
    "id": "-YRL5oBzBY6Q"
   },
   "outputs": [
    {
     "name": "stdout",
     "output_type": "stream",
     "text": [
      "0\n",
      "10\n",
      "20\n",
      "30\n",
      "40\n",
      "50\n",
      "60\n",
      "70\n",
      "80\n",
      "90\n",
      "100\n",
      "110\n",
      "120\n"
     ]
    },
    {
     "data": {
      "text/plain": [
       "162"
      ]
     },
     "execution_count": 35,
     "metadata": {},
     "output_type": "execute_result"
    }
   ],
   "source": [
    "# check for duplicated features in the training set\n",
    "duplicated_feat = []\n",
    "for i in range(0, len(X_train.columns)):\n",
    "    if i % 10 == 0:  # this helps me understand how the loop is going\n",
    "        print(i)\n",
    "\n",
    "    col_1 = X_train.columns[i]\n",
    "\n",
    "    for col_2 in X_train.columns[i + 1:]:\n",
    "        if X_train[col_1].equals(X_train[col_2]):\n",
    "            duplicated_feat.append(col_2)\n",
    "            \n",
    "len(duplicated_feat)"
   ]
  },
  {
   "cell_type": "code",
   "execution_count": 36,
   "metadata": {
    "id": "WaOcJjfkBdZ1"
   },
   "outputs": [
    {
     "data": {
      "text/plain": [
       "((1795575, 99), (575643, 99))"
      ]
     },
     "execution_count": 36,
     "metadata": {},
     "output_type": "execute_result"
    }
   ],
   "source": [
    "# remove duplicated features\n",
    "X_train.drop(labels=duplicated_feat, axis=1, inplace=True)\n",
    "X_test.drop(labels=duplicated_feat, axis=1, inplace=True)\n",
    "\n",
    "X_train.shape, X_test.shape"
   ]
  },
  {
   "cell_type": "code",
   "execution_count": 37,
   "metadata": {
    "id": "bqC_XskUBiSe"
   },
   "outputs": [],
   "source": [
    "# Keep a copy of the dataset except constant and duplicated variables\n",
    "# to measure the performance of machine learning models\n",
    "# at the end of the notebook\n",
    "\n",
    "X_train_basic_filter = X_train.copy()\n",
    "X_test_basic_filter = X_test.copy()"
   ]
  },
  {
   "cell_type": "markdown",
   "metadata": {
    "id": "6wueN_zYBj-2"
   },
   "source": [
    "### **Removing correlated features**"
   ]
  },
  {
   "cell_type": "code",
   "execution_count": 38,
   "metadata": {
    "id": "0SbSrgmmBmdH"
   },
   "outputs": [
    {
     "name": "stderr",
     "output_type": "stream",
     "text": [
      "/tmp/ipykernel_516373/138991656.py:4: FutureWarning: The default value of numeric_only in DataFrame.corr is deprecated. In a future version, it will default to False. Select only valid columns or specify the value of numeric_only to silence this warning.\n",
      "  corr_matrix = dataset.corr()\n"
     ]
    },
    {
     "name": "stdout",
     "output_type": "stream",
     "text": [
      "correlated features:  3\n"
     ]
    }
   ],
   "source": [
    "# find and remove correlated features\n",
    "def correlation(dataset, threshold):\n",
    "    col_corr = set()  # Set of all the names of correlated columns\n",
    "    corr_matrix = dataset.corr()\n",
    "    for i in range(len(corr_matrix.columns)):\n",
    "        for j in range(i):\n",
    "            if abs(corr_matrix.iloc[i, j]) > threshold: # we are interested in absolute coeff value\n",
    "                colname = corr_matrix.columns[i]  # getting the name of column\n",
    "                col_corr.add(colname)\n",
    "    return col_corr\n",
    "\n",
    "corr_features = correlation(X_train, 0.8)\n",
    "print('correlated features: ', len(set(corr_features)) )"
   ]
  },
  {
   "cell_type": "code",
   "execution_count": 39,
   "metadata": {
    "id": "mrY3W2OjBq-X"
   },
   "outputs": [
    {
     "data": {
      "text/plain": [
       "((1795575, 96), (575643, 96))"
      ]
     },
     "execution_count": 39,
     "metadata": {},
     "output_type": "execute_result"
    }
   ],
   "source": [
    "# removed correlated  features\n",
    "X_train.drop(labels=corr_features, axis=1, inplace=True)\n",
    "X_test.drop(labels=corr_features, axis=1, inplace=True)\n",
    "\n",
    "X_train.shape, X_test.shape"
   ]
  },
  {
   "cell_type": "code",
   "execution_count": 40,
   "metadata": {
    "id": "dGjWeKT3BwUK"
   },
   "outputs": [],
   "source": [
    "# keep a copy of the dataset at  this stage\n",
    "X_train_corr = X_train.copy()\n",
    "X_test_corr = X_test.copy()"
   ]
  },
  {
   "cell_type": "code",
   "execution_count": 41,
   "metadata": {
    "id": "LgeMIR6IBx_b"
   },
   "outputs": [],
   "source": [
    "# find important features using univariate roc-auc\n",
    "\n",
    "# loop to build a tree, make predictions and get the roc-auc\n",
    "# for each feature of the train set\n",
    "str_feat=[]\n",
    "roc_values = []\n",
    "for feature in X_train.columns:\n",
    "    try:\n",
    "        clf = DecisionTreeClassifier()\n",
    "        clf.fit(X_train[feature].fillna(0).to_frame(), y_train)\n",
    "        y_scored = clf.predict_proba(X_test[feature].fillna(0).to_frame())\n",
    "    except:\n",
    "        str_feat.append(feature)\n",
    "    # roc_values.append(roc_auc_score(y_test, y_scored[:, 1]))"
   ]
  },
  {
   "cell_type": "code",
   "execution_count": 42,
   "metadata": {},
   "outputs": [],
   "source": [
    "use_col=[feat for feat in X_train.columns if feat not in str_feat]\n",
    "x_train=X_train[use_col]\n",
    "x_test=X_test[use_col]"
   ]
  },
  {
   "cell_type": "code",
   "execution_count": 43,
   "metadata": {},
   "outputs": [
    {
     "data": {
      "text/plain": [
       "65"
      ]
     },
     "execution_count": 43,
     "metadata": {},
     "output_type": "execute_result"
    }
   ],
   "source": [
    "len(use_col)"
   ]
  },
  {
   "cell_type": "markdown",
   "metadata": {
    "id": "uGzdEJsuCmNS"
   },
   "source": [
    "### **Data preprocessing**"
   ]
  },
  {
   "cell_type": "code",
   "execution_count": 44,
   "metadata": {
    "id": "F_xTOqnSCTdu"
   },
   "outputs": [],
   "source": [
    "sc=StandardScaler()\n",
    "sc.fit(x_train)\n",
    "scaled_X_train=sc.transform(x_train)\n",
    "\n",
    "sc1=StandardScaler()\n",
    "sc1.fit(x_test)\n",
    "scaled_X_test=sc1.transform(x_test)"
   ]
  },
  {
   "cell_type": "markdown",
   "metadata": {
    "id": "C8OgWmUDCt65"
   },
   "source": [
    "### **Encoding**"
   ]
  },
  {
   "cell_type": "code",
   "execution_count": null,
   "metadata": {
    "id": "zZnEYjA3CwDG"
   },
   "outputs": [],
   "source": []
  },
  {
   "cell_type": "code",
   "execution_count": 45,
   "metadata": {
    "id": "H9khta5NuUEk"
   },
   "outputs": [],
   "source": [
    "encoder = LabelEncoder()\n",
    "encoded_y=encoder.fit_transform(y_train)\n",
    "enc_y_test=encoder.fit_transform(y_test)"
   ]
  },
  {
   "cell_type": "code",
   "execution_count": 46,
   "metadata": {},
   "outputs": [
    {
     "data": {
      "text/plain": [
       "array([3, 3, 3, ..., 3, 3, 3])"
      ]
     },
     "execution_count": 46,
     "metadata": {},
     "output_type": "execute_result"
    }
   ],
   "source": [
    "encoded_y"
   ]
  },
  {
   "cell_type": "code",
   "execution_count": 47,
   "metadata": {
    "id": "Z7qQ2UkiuUEl"
   },
   "outputs": [
    {
     "data": {
      "text/plain": [
       "array(['flooding', 'impersonation', 'injection', 'normal'], dtype=object)"
      ]
     },
     "execution_count": 47,
     "metadata": {},
     "output_type": "execute_result"
    }
   ],
   "source": [
    "encoder.classes_"
   ]
  },
  {
   "cell_type": "code",
   "execution_count": 48,
   "metadata": {
    "id": "kOn1vzVWuUEl"
   },
   "outputs": [
    {
     "data": {
      "text/plain": [
       "array([3, 3, 3, ..., 3, 3, 3])"
      ]
     },
     "execution_count": 48,
     "metadata": {},
     "output_type": "execute_result"
    }
   ],
   "source": [
    "encoded_y"
   ]
  },
  {
   "cell_type": "code",
   "execution_count": 49,
   "metadata": {},
   "outputs": [
    {
     "data": {
      "text/plain": [
       "array([3, 3, 3, ..., 3, 3, 3])"
      ]
     },
     "execution_count": 49,
     "metadata": {},
     "output_type": "execute_result"
    }
   ],
   "source": [
    "enc_y_test"
   ]
  },
  {
   "cell_type": "code",
   "execution_count": 50,
   "metadata": {
    "id": "yuTKsMnnCz0C"
   },
   "outputs": [],
   "source": [
    "X_train=x_train\n",
    "X_test=x_test"
   ]
  },
  {
   "cell_type": "markdown",
   "metadata": {
    "id": "446L2NiXuUEm"
   },
   "source": [
    "<h2>Classification Machine Learning Algorithm </h2>"
   ]
  },
  {
   "cell_type": "code",
   "execution_count": 51,
   "metadata": {
    "id": "Kee7XzmduUEn"
   },
   "outputs": [],
   "source": [
    "# def model_accuracy(model):\n",
    "#     y_preds=model.predict(X_test)\n",
    "#     return accuracy_score(y_test, y_preds)"
   ]
  },
  {
   "cell_type": "code",
   "execution_count": 52,
   "metadata": {},
   "outputs": [
    {
     "data": {
      "text/plain": [
       "((575643, 65), (575643,))"
      ]
     },
     "execution_count": 52,
     "metadata": {},
     "output_type": "execute_result"
    }
   ],
   "source": [
    "X_test.shape,y_test.shape"
   ]
  },
  {
   "cell_type": "code",
   "execution_count": 53,
   "metadata": {},
   "outputs": [],
   "source": [
    "def model_accuracy(model):\n",
    "    y_preds=model.predict(X_test)\n",
    "    ac=0\n",
    "    for i in range(len(y_preds)):\n",
    "        if y_preds[i]==y_test[i]:\n",
    "            ac+=1\n",
    "    return ac/len(y_test)"
   ]
  },
  {
   "cell_type": "code",
   "execution_count": 54,
   "metadata": {
    "id": "gmi54N55uUEn"
   },
   "outputs": [
    {
     "name": "stdout",
     "output_type": "stream",
     "text": [
      "0.01451767849170406\n",
      "Runtime of the program is 28.96305012702942\n"
     ]
    }
   ],
   "source": [
    "#Performed well after feature elimination,working with 8 features now\n",
    "import time\n",
    "\n",
    "start = time.time()\n",
    "\n",
    "\n",
    "lr=LogisticRegression()\n",
    "lr.fit(X_train, y_train)\n",
    "print(model_accuracy(lr))\n",
    "\n",
    "end = time.time()\n",
    "\n",
    "print(\"Runtime of the program is\",end-start)\n"
   ]
  },
  {
   "cell_type": "code",
   "execution_count": 55,
   "metadata": {},
   "outputs": [],
   "source": [
    "y_pred_lr = lr.predict(X_test)"
   ]
  },
  {
   "cell_type": "code",
   "execution_count": 56,
   "metadata": {},
   "outputs": [
    {
     "data": {
      "text/plain": [
       "array([[   260,      0, 530525,      0],\n",
       "       [     0,      0,  20079,      0],\n",
       "       [     0,      0,   8097,      0],\n",
       "       [     0,      0,  16682,      0]])"
      ]
     },
     "execution_count": 56,
     "metadata": {},
     "output_type": "execute_result"
    }
   ],
   "source": [
    "from sklearn.metrics import confusion_matrix\n",
    " \n",
    "cm = confusion_matrix(y_test,y_pred_lr,labels=[\"normal\", \"impersonation\", \"flooding\", \"injection\"])\n",
    "cm"
   ]
  },
  {
   "cell_type": "code",
   "execution_count": 57,
   "metadata": {},
   "outputs": [],
   "source": [
    "import matplotlib.pyplot as plt\n",
    "# from sklearn.metrics import plot_confusion_matrix\n",
    "# from sklearn.metrics import confusion_matrix\n",
    "# sklearn.metrics.plot_confusion_matrix(lr, X_test, y_test)\n",
    "from sklearn.metrics import confusion_matrix, ConfusionMatrixDisplay\n",
    "cm = confusion_matrix(y_test,y_pred_lr,labels=[\"normal\", \"impersonation\", \"flooding\", \"injection\"])\n"
   ]
  },
  {
   "cell_type": "code",
   "execution_count": 58,
   "metadata": {},
   "outputs": [
    {
     "data": {
      "text/html": [
       "<div>\n",
       "<style scoped>\n",
       "    .dataframe tbody tr th:only-of-type {\n",
       "        vertical-align: middle;\n",
       "    }\n",
       "\n",
       "    .dataframe tbody tr th {\n",
       "        vertical-align: top;\n",
       "    }\n",
       "\n",
       "    .dataframe thead th {\n",
       "        text-align: right;\n",
       "    }\n",
       "</style>\n",
       "<table border=\"1\" class=\"dataframe\">\n",
       "  <thead>\n",
       "    <tr style=\"text-align: right;\">\n",
       "      <th></th>\n",
       "      <th>normal</th>\n",
       "      <th>impersonation</th>\n",
       "      <th>flooding</th>\n",
       "      <th>injection</th>\n",
       "    </tr>\n",
       "  </thead>\n",
       "  <tbody>\n",
       "    <tr>\n",
       "      <th>normal</th>\n",
       "      <td>260</td>\n",
       "      <td>0</td>\n",
       "      <td>530525</td>\n",
       "      <td>0</td>\n",
       "    </tr>\n",
       "    <tr>\n",
       "      <th>impersonation</th>\n",
       "      <td>0</td>\n",
       "      <td>0</td>\n",
       "      <td>20079</td>\n",
       "      <td>0</td>\n",
       "    </tr>\n",
       "    <tr>\n",
       "      <th>flooding</th>\n",
       "      <td>0</td>\n",
       "      <td>0</td>\n",
       "      <td>8097</td>\n",
       "      <td>0</td>\n",
       "    </tr>\n",
       "    <tr>\n",
       "      <th>injection</th>\n",
       "      <td>0</td>\n",
       "      <td>0</td>\n",
       "      <td>16682</td>\n",
       "      <td>0</td>\n",
       "    </tr>\n",
       "  </tbody>\n",
       "</table>\n",
       "</div>"
      ],
      "text/plain": [
       "               normal  impersonation  flooding  injection\n",
       "normal            260              0    530525          0\n",
       "impersonation       0              0     20079          0\n",
       "flooding            0              0      8097          0\n",
       "injection           0              0     16682          0"
      ]
     },
     "execution_count": 58,
     "metadata": {},
     "output_type": "execute_result"
    }
   ],
   "source": [
    "cm_df = pd.DataFrame(cm,\n",
    "                     index = [\"normal\", \"impersonation\", \"flooding\", \"injection\"], \n",
    "                     columns = [\"normal\", \"impersonation\", \"flooding\", \"injection\"])\n",
    "\n",
    "cm_df"
   ]
  },
  {
   "cell_type": "code",
   "execution_count": 59,
   "metadata": {},
   "outputs": [
    {
     "data": {
      "image/png": "[encoded data removed]",
      "text/plain": [
       "<Figure size 500x400 with 2 Axes>"
      ]
     },
     "metadata": {},
     "output_type": "display_data"
    }
   ],
   "source": [
    "import matplotlib.pyplot as plt\n",
    "\n",
    "plt.figure(figsize=(5,4))\n",
    "sns.heatmap(cm_df, annot=True)\n",
    "plt.title('Confusion Matrix')\n",
    "plt.ylabel('Actual Values')\n",
    "plt.xlabel('Predicted Values')\n",
    "plt.show()"
   ]
  },
  {
   "cell_type": "code",
   "execution_count": 60,
   "metadata": {},
   "outputs": [
    {
     "name": "stderr",
     "output_type": "stream",
     "text": [
      "/DATA/sofia_2111cs15/anaconda3/envs/sofiaj/lib/python3.10/site-packages/sklearn/metrics/_classification.py:1344: UndefinedMetricWarning: Precision and F-score are ill-defined and being set to 0.0 in labels with no predicted samples. Use `zero_division` parameter to control this behavior.\n",
      "  _warn_prf(average, modifier, msg_start, len(result))\n",
      "/DATA/sofia_2111cs15/anaconda3/envs/sofiaj/lib/python3.10/site-packages/sklearn/metrics/_classification.py:1344: UndefinedMetricWarning: Precision and F-score are ill-defined and being set to 0.0 in labels with no predicted samples. Use `zero_division` parameter to control this behavior.\n",
      "  _warn_prf(average, modifier, msg_start, len(result))\n"
     ]
    },
    {
     "name": "stdout",
     "output_type": "stream",
     "text": [
      "               precision    recall  f1-score   support\n",
      "\n",
      "       normal       0.01      1.00      0.03      8097\n",
      "impersonation       0.00      0.00      0.00     20079\n",
      "     flooding       0.00      0.00      0.00     16682\n",
      "    injection       1.00      0.00      0.00    530785\n",
      "\n",
      "     accuracy                           0.01    575643\n",
      "    macro avg       0.25      0.25      0.01    575643\n",
      " weighted avg       0.92      0.01      0.00    575643\n",
      "\n"
     ]
    },
    {
     "name": "stderr",
     "output_type": "stream",
     "text": [
      "/DATA/sofia_2111cs15/anaconda3/envs/sofiaj/lib/python3.10/site-packages/sklearn/metrics/_classification.py:1344: UndefinedMetricWarning: Precision and F-score are ill-defined and being set to 0.0 in labels with no predicted samples. Use `zero_division` parameter to control this behavior.\n",
      "  _warn_prf(average, modifier, msg_start, len(result))\n"
     ]
    }
   ],
   "source": [
    " print(classification_report(y_test, y_pred_lr, target_names=[\"normal\", \"impersonation\", \"flooding\", \"injection\"]))"
   ]
  },
  {
   "cell_type": "code",
   "execution_count": null,
   "metadata": {},
   "outputs": [],
   "source": []
  },
  {
   "cell_type": "code",
   "execution_count": 61,
   "metadata": {
    "id": "NrOgG31iDO-v"
   },
   "outputs": [
    {
     "data": {
      "text/plain": [
       "0          normal\n",
       "1          normal\n",
       "2          normal\n",
       "3          normal\n",
       "4          normal\n",
       "            ...  \n",
       "1795570    normal\n",
       "1795571    normal\n",
       "1795572    normal\n",
       "1795573    normal\n",
       "1795574    normal\n",
       "Name: class, Length: 1795575, dtype: object"
      ]
     },
     "execution_count": 61,
     "metadata": {},
     "output_type": "execute_result"
    }
   ],
   "source": [
    "y_train"
   ]
  },
  {
   "cell_type": "code",
   "execution_count": 62,
   "metadata": {
    "id": "2PtN3mxTDGvd"
   },
   "outputs": [
    {
     "name": "stdout",
     "output_type": "stream",
     "text": [
      "0.9406646133106804\n",
      "time taken is 14.79571795463562\n"
     ]
    }
   ],
   "source": [
    "# Decision Tree Algorithm\n",
    "start_dt = time.time()\n",
    "tree=DecisionTreeClassifier()\n",
    "tree.fit(X_train, y_train)\n",
    "print(model_accuracy(tree))\n",
    "\n",
    "end_dt = time.time()\n",
    "\n",
    "print('time taken is',end_dt-start_dt)\n"
   ]
  },
  {
   "cell_type": "code",
   "execution_count": 63,
   "metadata": {},
   "outputs": [],
   "source": [
    "y_pred_dt = tree.predict(X_test)"
   ]
  },
  {
   "cell_type": "code",
   "execution_count": 64,
   "metadata": {},
   "outputs": [
    {
     "data": {
      "text/plain": [
       "array([[523840,     54,      4,   6887],\n",
       "       [  1197,    276,      0,  18606],\n",
       "       [  3779,   1158,   3160,      0],\n",
       "       [  2471,      0,      0,  14211]])"
      ]
     },
     "execution_count": 64,
     "metadata": {},
     "output_type": "execute_result"
    }
   ],
   "source": [
    "\n",
    " \n",
    "cm = confusion_matrix(y_test,y_pred_dt,labels=[\"normal\", \"impersonation\", \"flooding\", \"injection\"])\n",
    "cm"
   ]
  },
  {
   "cell_type": "code",
   "execution_count": 65,
   "metadata": {},
   "outputs": [
    {
     "data": {
      "text/html": [
       "<div>\n",
       "<style scoped>\n",
       "    .dataframe tbody tr th:only-of-type {\n",
       "        vertical-align: middle;\n",
       "    }\n",
       "\n",
       "    .dataframe tbody tr th {\n",
       "        vertical-align: top;\n",
       "    }\n",
       "\n",
       "    .dataframe thead th {\n",
       "        text-align: right;\n",
       "    }\n",
       "</style>\n",
       "<table border=\"1\" class=\"dataframe\">\n",
       "  <thead>\n",
       "    <tr style=\"text-align: right;\">\n",
       "      <th></th>\n",
       "      <th>normal</th>\n",
       "      <th>impersonation</th>\n",
       "      <th>flooding</th>\n",
       "      <th>injection</th>\n",
       "    </tr>\n",
       "  </thead>\n",
       "  <tbody>\n",
       "    <tr>\n",
       "      <th>normal</th>\n",
       "      <td>523840</td>\n",
       "      <td>54</td>\n",
       "      <td>4</td>\n",
       "      <td>6887</td>\n",
       "    </tr>\n",
       "    <tr>\n",
       "      <th>impersonation</th>\n",
       "      <td>1197</td>\n",
       "      <td>276</td>\n",
       "      <td>0</td>\n",
       "      <td>18606</td>\n",
       "    </tr>\n",
       "    <tr>\n",
       "      <th>flooding</th>\n",
       "      <td>3779</td>\n",
       "      <td>1158</td>\n",
       "      <td>3160</td>\n",
       "      <td>0</td>\n",
       "    </tr>\n",
       "    <tr>\n",
       "      <th>injection</th>\n",
       "      <td>2471</td>\n",
       "      <td>0</td>\n",
       "      <td>0</td>\n",
       "      <td>14211</td>\n",
       "    </tr>\n",
       "  </tbody>\n",
       "</table>\n",
       "</div>"
      ],
      "text/plain": [
       "               normal  impersonation  flooding  injection\n",
       "normal         523840             54         4       6887\n",
       "impersonation    1197            276         0      18606\n",
       "flooding         3779           1158      3160          0\n",
       "injection        2471              0         0      14211"
      ]
     },
     "execution_count": 65,
     "metadata": {},
     "output_type": "execute_result"
    }
   ],
   "source": [
    "cm_df = pd.DataFrame(cm,\n",
    "                     index = [\"normal\", \"impersonation\", \"flooding\", \"injection\"], \n",
    "                     columns = [\"normal\", \"impersonation\", \"flooding\", \"injection\"])\n",
    "\n",
    "cm_df"
   ]
  },
  {
   "cell_type": "code",
   "execution_count": 66,
   "metadata": {},
   "outputs": [
    {
     "data": {
      "image/png": "[encoded data removed]",
      "text/plain": [
       "<Figure size 500x400 with 2 Axes>"
      ]
     },
     "metadata": {},
     "output_type": "display_data"
    }
   ],
   "source": [
    "import matplotlib.pyplot as plt\n",
    "\n",
    "plt.figure(figsize=(5,4))\n",
    "sns.heatmap(cm_df, annot=True)\n",
    "plt.title('Confusion Matrix')\n",
    "plt.ylabel('Actual Values')\n",
    "plt.xlabel('Predicted Values')\n",
    "plt.show()"
   ]
  },
  {
   "cell_type": "code",
   "execution_count": 67,
   "metadata": {},
   "outputs": [],
   "source": [
    "# import matplotlib.pyplot as plt\n",
    "# from sklearn.metrics import plot_confusion_matrix\n",
    "# plot_confusion_matrix(tree, X_test, y_test)  \n",
    "# plt.show()"
   ]
  },
  {
   "cell_type": "code",
   "execution_count": 68,
   "metadata": {},
   "outputs": [
    {
     "name": "stdout",
     "output_type": "stream",
     "text": [
      "               precision    recall  f1-score   support\n",
      "\n",
      "       normal       1.00      0.39      0.56      8097\n",
      "impersonation       0.19      0.01      0.03     20079\n",
      "     flooding       0.36      0.85      0.50     16682\n",
      "    injection       0.99      0.99      0.99    530785\n",
      "\n",
      "     accuracy                           0.94    575643\n",
      "    macro avg       0.63      0.56      0.52    575643\n",
      " weighted avg       0.94      0.94      0.93    575643\n",
      "\n"
     ]
    }
   ],
   "source": [
    " print(classification_report(y_test, y_pred_dt, target_names=[\"normal\", \"impersonation\", \"flooding\", \"injection\"]))"
   ]
  },
  {
   "cell_type": "code",
   "execution_count": 69,
   "metadata": {
    "id": "jfeWP9G_DRhZ"
   },
   "outputs": [
    {
     "name": "stdout",
     "output_type": "stream",
     "text": [
      "0.9413646999963519\n",
      "time taken rf 95.00311708450317\n"
     ]
    }
   ],
   "source": [
    "#Random Forest Classifier \n",
    "start_rf=time.time()\n",
    "forest=RandomForestClassifier()\n",
    "forest.fit(X_train,y_train)\n",
    "print(model_accuracy(forest))\n",
    "\n",
    "end_rf=time.time()\n",
    "\n",
    "print('time taken rf',end_rf-start_rf)"
   ]
  },
  {
   "cell_type": "code",
   "execution_count": 70,
   "metadata": {},
   "outputs": [],
   "source": [
    "y_pred_rf = forest.predict(X_test)"
   ]
  },
  {
   "cell_type": "code",
   "execution_count": 71,
   "metadata": {},
   "outputs": [
    {
     "data": {
      "text/plain": [
       "array([[530093,      9,      0,    683],\n",
       "       [    88,   1446,      0,  18545],\n",
       "       [  5438,      0,   2659,      0],\n",
       "       [  8990,      0,      0,   7692]])"
      ]
     },
     "execution_count": 71,
     "metadata": {},
     "output_type": "execute_result"
    }
   ],
   "source": [
    "cm = confusion_matrix(y_test,y_pred_rf,labels=[\"normal\", \"impersonation\", \"flooding\", \"injection\"])\n",
    "cm"
   ]
  },
  {
   "cell_type": "code",
   "execution_count": 72,
   "metadata": {},
   "outputs": [
    {
     "data": {
      "text/html": [
       "<div>\n",
       "<style scoped>\n",
       "    .dataframe tbody tr th:only-of-type {\n",
       "        vertical-align: middle;\n",
       "    }\n",
       "\n",
       "    .dataframe tbody tr th {\n",
       "        vertical-align: top;\n",
       "    }\n",
       "\n",
       "    .dataframe thead th {\n",
       "        text-align: right;\n",
       "    }\n",
       "</style>\n",
       "<table border=\"1\" class=\"dataframe\">\n",
       "  <thead>\n",
       "    <tr style=\"text-align: right;\">\n",
       "      <th></th>\n",
       "      <th>normal</th>\n",
       "      <th>impersonation</th>\n",
       "      <th>flooding</th>\n",
       "      <th>injection</th>\n",
       "    </tr>\n",
       "  </thead>\n",
       "  <tbody>\n",
       "    <tr>\n",
       "      <th>normal</th>\n",
       "      <td>530093</td>\n",
       "      <td>9</td>\n",
       "      <td>0</td>\n",
       "      <td>683</td>\n",
       "    </tr>\n",
       "    <tr>\n",
       "      <th>impersonation</th>\n",
       "      <td>88</td>\n",
       "      <td>1446</td>\n",
       "      <td>0</td>\n",
       "      <td>18545</td>\n",
       "    </tr>\n",
       "    <tr>\n",
       "      <th>flooding</th>\n",
       "      <td>5438</td>\n",
       "      <td>0</td>\n",
       "      <td>2659</td>\n",
       "      <td>0</td>\n",
       "    </tr>\n",
       "    <tr>\n",
       "      <th>injection</th>\n",
       "      <td>8990</td>\n",
       "      <td>0</td>\n",
       "      <td>0</td>\n",
       "      <td>7692</td>\n",
       "    </tr>\n",
       "  </tbody>\n",
       "</table>\n",
       "</div>"
      ],
      "text/plain": [
       "               normal  impersonation  flooding  injection\n",
       "normal         530093              9         0        683\n",
       "impersonation      88           1446         0      18545\n",
       "flooding         5438              0      2659          0\n",
       "injection        8990              0         0       7692"
      ]
     },
     "execution_count": 72,
     "metadata": {},
     "output_type": "execute_result"
    }
   ],
   "source": [
    "cm_df = pd.DataFrame(cm,\n",
    "                     index = [\"normal\", \"impersonation\", \"flooding\", \"injection\"], \n",
    "                     columns = [\"normal\", \"impersonation\", \"flooding\", \"injection\"])\n",
    "\n",
    "cm_df"
   ]
  },
  {
   "cell_type": "code",
   "execution_count": 73,
   "metadata": {},
   "outputs": [
    {
     "data": {
      "image/png": "[encoded data removed]",
      "text/plain": [
       "<Figure size 500x400 with 2 Axes>"
      ]
     },
     "metadata": {},
     "output_type": "display_data"
    }
   ],
   "source": [
    "import matplotlib.pyplot as plt\n",
    "\n",
    "plt.figure(figsize=(5,4))\n",
    "sns.heatmap(cm_df, annot=True)\n",
    "plt.title('Confusion Matrix')\n",
    "plt.ylabel('Actual Values')\n",
    "plt.xlabel('Predicted Values')\n",
    "plt.show()"
   ]
  },
  {
   "cell_type": "code",
   "execution_count": 74,
   "metadata": {},
   "outputs": [],
   "source": [
    "# import matplotlib.pyplot as plt\n",
    "# from sklearn.metrics import plot_confusion_matrix\n",
    "# plot_confusion_matrix(forest, X_test, y_test)  \n",
    "# plt.show()"
   ]
  },
  {
   "cell_type": "code",
   "execution_count": 75,
   "metadata": {},
   "outputs": [],
   "source": [
    "# import matplotlib.pyplot as plt\n",
    "# from sklearn.metrics import plot_confusion_matrix\n",
    "# plot_confusion_matrix(forest, X_test, y_test)  \n",
    "# plt.show()"
   ]
  },
  {
   "cell_type": "code",
   "execution_count": 76,
   "metadata": {},
   "outputs": [
    {
     "name": "stdout",
     "output_type": "stream",
     "text": [
      "               precision    recall  f1-score   support\n",
      "\n",
      "       normal       1.00      0.33      0.49      8097\n",
      "impersonation       0.99      0.07      0.13     20079\n",
      "     flooding       0.29      0.46      0.35     16682\n",
      "    injection       0.97      1.00      0.99    530785\n",
      "\n",
      "     accuracy                           0.94    575643\n",
      "    macro avg       0.81      0.47      0.49    575643\n",
      " weighted avg       0.95      0.94      0.93    575643\n",
      "\n"
     ]
    }
   ],
   "source": [
    " print(classification_report(y_test, y_pred_rf, target_names=[\"normal\", \"impersonation\", \"flooding\", \"injection\"]))"
   ]
  },
  {
   "cell_type": "code",
   "execution_count": 77,
   "metadata": {},
   "outputs": [],
   "source": [
    "# from sklearn.svm import SVC\n",
    "# svclassifier_rbf = SVC(kernel='rbf')\n",
    "# svclassifier_rbf.fit(X_train, y_train)\n",
    "# # prediction_svmrbf = svclassifier_rbf.predict(X_test)\n",
    "# # accuracy_svmrbf=sum([1 for i in range(len(X_test)) if y_test[i]==prediction_svmrbf[i]])/len(X_test)\n",
    "# # print(accuracy_svmrbf)\n",
    "# # print(classification_report(y_test,prediction_svmrbf))\n",
    "# model_accuracy(svclassifier_rbf)"
   ]
  },
  {
   "cell_type": "code",
   "execution_count": 78,
   "metadata": {
    "id": "dhmK8QsiDnPH"
   },
   "outputs": [
    {
     "name": "stdout",
     "output_type": "stream",
     "text": [
      "0.605363046193561\n",
      "time taken by adaboost 600.0844995975494\n"
     ]
    }
   ],
   "source": [
    "#adaboost is performing bad\n",
    "\n",
    "start_ab=time.time()\n",
    "\n",
    "from sklearn.ensemble import AdaBoostClassifier\n",
    "boost=AdaBoostClassifier()\n",
    "boost.fit(X_train,y_train)\n",
    "print(model_accuracy(boost))\n",
    "\n",
    "end_ab = time.time()\n",
    "\n",
    "print('time taken by adaboost',end_ab-start_ab)"
   ]
  },
  {
   "cell_type": "code",
   "execution_count": 79,
   "metadata": {},
   "outputs": [],
   "source": [
    "y_pred_ab=boost.predict(X_test)"
   ]
  },
  {
   "cell_type": "code",
   "execution_count": 80,
   "metadata": {},
   "outputs": [
    {
     "data": {
      "text/plain": [
       "array([[345913,      0, 184872,      0],\n",
       "       [ 20079,      0,      0,      0],\n",
       "       [  5537,      0,   2560,      0],\n",
       "       [ 16656,      0,     26,      0]])"
      ]
     },
     "execution_count": 80,
     "metadata": {},
     "output_type": "execute_result"
    }
   ],
   "source": [
    "cm = confusion_matrix(y_test,y_pred_ab,labels=[\"normal\", \"impersonation\", \"flooding\", \"injection\"])\n",
    "cm"
   ]
  },
  {
   "cell_type": "code",
   "execution_count": 81,
   "metadata": {},
   "outputs": [
    {
     "data": {
      "text/html": [
       "<div>\n",
       "<style scoped>\n",
       "    .dataframe tbody tr th:only-of-type {\n",
       "        vertical-align: middle;\n",
       "    }\n",
       "\n",
       "    .dataframe tbody tr th {\n",
       "        vertical-align: top;\n",
       "    }\n",
       "\n",
       "    .dataframe thead th {\n",
       "        text-align: right;\n",
       "    }\n",
       "</style>\n",
       "<table border=\"1\" class=\"dataframe\">\n",
       "  <thead>\n",
       "    <tr style=\"text-align: right;\">\n",
       "      <th></th>\n",
       "      <th>normal</th>\n",
       "      <th>impersonation</th>\n",
       "      <th>flooding</th>\n",
       "      <th>injection</th>\n",
       "    </tr>\n",
       "  </thead>\n",
       "  <tbody>\n",
       "    <tr>\n",
       "      <th>normal</th>\n",
       "      <td>345913</td>\n",
       "      <td>0</td>\n",
       "      <td>184872</td>\n",
       "      <td>0</td>\n",
       "    </tr>\n",
       "    <tr>\n",
       "      <th>impersonation</th>\n",
       "      <td>20079</td>\n",
       "      <td>0</td>\n",
       "      <td>0</td>\n",
       "      <td>0</td>\n",
       "    </tr>\n",
       "    <tr>\n",
       "      <th>flooding</th>\n",
       "      <td>5537</td>\n",
       "      <td>0</td>\n",
       "      <td>2560</td>\n",
       "      <td>0</td>\n",
       "    </tr>\n",
       "    <tr>\n",
       "      <th>injection</th>\n",
       "      <td>16656</td>\n",
       "      <td>0</td>\n",
       "      <td>26</td>\n",
       "      <td>0</td>\n",
       "    </tr>\n",
       "  </tbody>\n",
       "</table>\n",
       "</div>"
      ],
      "text/plain": [
       "               normal  impersonation  flooding  injection\n",
       "normal         345913              0    184872          0\n",
       "impersonation   20079              0         0          0\n",
       "flooding         5537              0      2560          0\n",
       "injection       16656              0        26          0"
      ]
     },
     "execution_count": 81,
     "metadata": {},
     "output_type": "execute_result"
    }
   ],
   "source": [
    "cm_df = pd.DataFrame(cm,\n",
    "                     index = [\"normal\", \"impersonation\", \"flooding\", \"injection\"], \n",
    "                     columns = [\"normal\", \"impersonation\", \"flooding\", \"injection\"])\n",
    "\n",
    "cm_df"
   ]
  },
  {
   "cell_type": "code",
   "execution_count": 82,
   "metadata": {},
   "outputs": [
    {
     "data": {
      "image/png": "[encoded data removed]",
      "text/plain": [
       "<Figure size 500x400 with 2 Axes>"
      ]
     },
     "metadata": {},
     "output_type": "display_data"
    }
   ],
   "source": [
    "import matplotlib.pyplot as plt\n",
    "\n",
    "plt.figure(figsize=(5,4))\n",
    "sns.heatmap(cm_df, annot=True)\n",
    "plt.title('Confusion Matrix')\n",
    "plt.ylabel('Actual Values')\n",
    "plt.xlabel('Predicted Values')\n",
    "plt.show()"
   ]
  },
  {
   "cell_type": "code",
   "execution_count": 83,
   "metadata": {},
   "outputs": [],
   "source": [
    "# import matplotlib.pyplot as plt\n",
    "# from sklearn.metrics import plot_confusion_matrix\n",
    "# plot_confusion_matrix(boost, X_test, y_test)  \n",
    "# plt.show()"
   ]
  },
  {
   "cell_type": "code",
   "execution_count": 84,
   "metadata": {},
   "outputs": [
    {
     "name": "stderr",
     "output_type": "stream",
     "text": [
      "/DATA/sofia_2111cs15/anaconda3/envs/sofiaj/lib/python3.10/site-packages/sklearn/metrics/_classification.py:1344: UndefinedMetricWarning: Precision and F-score are ill-defined and being set to 0.0 in labels with no predicted samples. Use `zero_division` parameter to control this behavior.\n",
      "  _warn_prf(average, modifier, msg_start, len(result))\n",
      "/DATA/sofia_2111cs15/anaconda3/envs/sofiaj/lib/python3.10/site-packages/sklearn/metrics/_classification.py:1344: UndefinedMetricWarning: Precision and F-score are ill-defined and being set to 0.0 in labels with no predicted samples. Use `zero_division` parameter to control this behavior.\n",
      "  _warn_prf(average, modifier, msg_start, len(result))\n"
     ]
    },
    {
     "name": "stdout",
     "output_type": "stream",
     "text": [
      "               precision    recall  f1-score   support\n",
      "\n",
      "       normal       0.01      0.32      0.03      8097\n",
      "impersonation       0.00      0.00      0.00     20079\n",
      "     flooding       0.00      0.00      0.00     16682\n",
      "    injection       0.89      0.65      0.75    530785\n",
      "\n",
      "     accuracy                           0.61    575643\n",
      "    macro avg       0.23      0.24      0.19    575643\n",
      " weighted avg       0.82      0.61      0.69    575643\n",
      "\n"
     ]
    },
    {
     "name": "stderr",
     "output_type": "stream",
     "text": [
      "/DATA/sofia_2111cs15/anaconda3/envs/sofiaj/lib/python3.10/site-packages/sklearn/metrics/_classification.py:1344: UndefinedMetricWarning: Precision and F-score are ill-defined and being set to 0.0 in labels with no predicted samples. Use `zero_division` parameter to control this behavior.\n",
      "  _warn_prf(average, modifier, msg_start, len(result))\n"
     ]
    }
   ],
   "source": [
    " print(classification_report(y_test, y_pred_ab, target_names=[\"normal\", \"impersonation\", \"flooding\", \"injection\"]))"
   ]
  },
  {
   "cell_type": "code",
   "execution_count": null,
   "metadata": {
    "id": "1h0ApFFMFoIJ"
   },
   "outputs": [],
   "source": []
  },
  {
   "cell_type": "code",
   "execution_count": 85,
   "metadata": {
    "id": "dWbK_-UgFYNI"
   },
   "outputs": [
    {
     "name": "stdout",
     "output_type": "stream",
     "text": [
      "0.9220732294147588\n",
      "time taken by gb 13.015738248825073\n"
     ]
    }
   ],
   "source": [
    "import time\n",
    "\n",
    "start_gb=time.time()\n",
    "\n",
    "from sklearn.naive_bayes import GaussianNB\n",
    "gnb=GaussianNB()\n",
    "gnb.fit(X_train,y_train)\n",
    "print(model_accuracy(gnb))\n",
    "\n",
    "end_gb=time.time()\n",
    "      \n",
    "print('time taken by gb',end_gb-start_gb)"
   ]
  },
  {
   "cell_type": "code",
   "execution_count": 86,
   "metadata": {},
   "outputs": [],
   "source": [
    "y_pred_gnb=gnb.predict(X_test)"
   ]
  },
  {
   "cell_type": "code",
   "execution_count": 87,
   "metadata": {},
   "outputs": [
    {
     "data": {
      "text/plain": [
       "array([[530785,      0,      0,      0],\n",
       "       [ 20079,      0,      0,      0],\n",
       "       [  8097,      0,      0,      0],\n",
       "       [ 16682,      0,      0,      0]])"
      ]
     },
     "execution_count": 87,
     "metadata": {},
     "output_type": "execute_result"
    }
   ],
   "source": [
    "cm = confusion_matrix(y_test,y_pred_gnb,labels=[\"normal\", \"impersonation\", \"flooding\", \"injection\"])\n",
    "cm"
   ]
  },
  {
   "cell_type": "code",
   "execution_count": 88,
   "metadata": {},
   "outputs": [
    {
     "data": {
      "text/html": [
       "<div>\n",
       "<style scoped>\n",
       "    .dataframe tbody tr th:only-of-type {\n",
       "        vertical-align: middle;\n",
       "    }\n",
       "\n",
       "    .dataframe tbody tr th {\n",
       "        vertical-align: top;\n",
       "    }\n",
       "\n",
       "    .dataframe thead th {\n",
       "        text-align: right;\n",
       "    }\n",
       "</style>\n",
       "<table border=\"1\" class=\"dataframe\">\n",
       "  <thead>\n",
       "    <tr style=\"text-align: right;\">\n",
       "      <th></th>\n",
       "      <th>normal</th>\n",
       "      <th>impersonation</th>\n",
       "      <th>flooding</th>\n",
       "      <th>injection</th>\n",
       "    </tr>\n",
       "  </thead>\n",
       "  <tbody>\n",
       "    <tr>\n",
       "      <th>normal</th>\n",
       "      <td>530785</td>\n",
       "      <td>0</td>\n",
       "      <td>0</td>\n",
       "      <td>0</td>\n",
       "    </tr>\n",
       "    <tr>\n",
       "      <th>impersonation</th>\n",
       "      <td>20079</td>\n",
       "      <td>0</td>\n",
       "      <td>0</td>\n",
       "      <td>0</td>\n",
       "    </tr>\n",
       "    <tr>\n",
       "      <th>flooding</th>\n",
       "      <td>8097</td>\n",
       "      <td>0</td>\n",
       "      <td>0</td>\n",
       "      <td>0</td>\n",
       "    </tr>\n",
       "    <tr>\n",
       "      <th>injection</th>\n",
       "      <td>16682</td>\n",
       "      <td>0</td>\n",
       "      <td>0</td>\n",
       "      <td>0</td>\n",
       "    </tr>\n",
       "  </tbody>\n",
       "</table>\n",
       "</div>"
      ],
      "text/plain": [
       "               normal  impersonation  flooding  injection\n",
       "normal         530785              0         0          0\n",
       "impersonation   20079              0         0          0\n",
       "flooding         8097              0         0          0\n",
       "injection       16682              0         0          0"
      ]
     },
     "execution_count": 88,
     "metadata": {},
     "output_type": "execute_result"
    }
   ],
   "source": [
    "cm_df = pd.DataFrame(cm,\n",
    "                     index = [\"normal\", \"impersonation\", \"flooding\", \"injection\"], \n",
    "                     columns = [\"normal\", \"impersonation\", \"flooding\", \"injection\"])\n",
    "\n",
    "cm_df"
   ]
  },
  {
   "cell_type": "code",
   "execution_count": 89,
   "metadata": {},
   "outputs": [
    {
     "data": {
      "image/png": "[encoded data removed]",
      "text/plain": [
       "<Figure size 500x400 with 2 Axes>"
      ]
     },
     "metadata": {},
     "output_type": "display_data"
    }
   ],
   "source": [
    "import matplotlib.pyplot as plt\n",
    "\n",
    "plt.figure(figsize=(5,4))\n",
    "sns.heatmap(cm_df, annot=True)\n",
    "plt.title('Confusion Matrix')\n",
    "plt.ylabel('Actual Values')\n",
    "plt.xlabel('Predicted Values')\n",
    "plt.show()"
   ]
  },
  {
   "cell_type": "code",
   "execution_count": 90,
   "metadata": {},
   "outputs": [],
   "source": [
    "# import matplotlib.pyplot as plt\n",
    "# from sklearn.metrics import plot_confusion_matrix\n",
    "# plot_confusion_matrix(gnb, X_test, y_test)  \n",
    "# plt.show()"
   ]
  },
  {
   "cell_type": "code",
   "execution_count": 91,
   "metadata": {},
   "outputs": [
    {
     "name": "stderr",
     "output_type": "stream",
     "text": [
      "/DATA/sofia_2111cs15/anaconda3/envs/sofiaj/lib/python3.10/site-packages/sklearn/metrics/_classification.py:1344: UndefinedMetricWarning: Precision and F-score are ill-defined and being set to 0.0 in labels with no predicted samples. Use `zero_division` parameter to control this behavior.\n",
      "  _warn_prf(average, modifier, msg_start, len(result))\n",
      "/DATA/sofia_2111cs15/anaconda3/envs/sofiaj/lib/python3.10/site-packages/sklearn/metrics/_classification.py:1344: UndefinedMetricWarning: Precision and F-score are ill-defined and being set to 0.0 in labels with no predicted samples. Use `zero_division` parameter to control this behavior.\n",
      "  _warn_prf(average, modifier, msg_start, len(result))\n"
     ]
    },
    {
     "name": "stdout",
     "output_type": "stream",
     "text": [
      "               precision    recall  f1-score   support\n",
      "\n",
      "       normal       0.00      0.00      0.00      8097\n",
      "impersonation       0.00      0.00      0.00     20079\n",
      "     flooding       0.00      0.00      0.00     16682\n",
      "    injection       0.92      1.00      0.96    530785\n",
      "\n",
      "     accuracy                           0.92    575643\n",
      "    macro avg       0.23      0.25      0.24    575643\n",
      " weighted avg       0.85      0.92      0.88    575643\n",
      "\n"
     ]
    },
    {
     "name": "stderr",
     "output_type": "stream",
     "text": [
      "/DATA/sofia_2111cs15/anaconda3/envs/sofiaj/lib/python3.10/site-packages/sklearn/metrics/_classification.py:1344: UndefinedMetricWarning: Precision and F-score are ill-defined and being set to 0.0 in labels with no predicted samples. Use `zero_division` parameter to control this behavior.\n",
      "  _warn_prf(average, modifier, msg_start, len(result))\n"
     ]
    }
   ],
   "source": [
    " print(classification_report(y_test, y_pred_gnb, target_names=[\"normal\", \"impersonation\", \"flooding\", \"injection\"]))"
   ]
  },
  {
   "cell_type": "code",
   "execution_count": 92,
   "metadata": {},
   "outputs": [
    {
     "data": {
      "text/plain": [
       "0.9220732294147588"
      ]
     },
     "execution_count": 92,
     "metadata": {},
     "output_type": "execute_result"
    }
   ],
   "source": [
    "from sklearn.dummy import DummyClassifier\n",
    "dummy=DummyClassifier()\n",
    "dummy.fit(X_train,y_train)\n",
    "y_pred_dmy=dummy.predict(X_test)\n",
    "model_accuracy(dummy)"
   ]
  },
  {
   "cell_type": "code",
   "execution_count": 93,
   "metadata": {},
   "outputs": [
    {
     "data": {
      "text/plain": [
       "array([[530785,      0,      0,      0],\n",
       "       [ 20079,      0,      0,      0],\n",
       "       [  8097,      0,      0,      0],\n",
       "       [ 16682,      0,      0,      0]])"
      ]
     },
     "execution_count": 93,
     "metadata": {},
     "output_type": "execute_result"
    }
   ],
   "source": [
    "cm = confusion_matrix(y_test,y_pred_dmy,labels=[\"normal\", \"impersonation\", \"flooding\", \"injection\"])\n",
    "cm"
   ]
  },
  {
   "cell_type": "code",
   "execution_count": 94,
   "metadata": {},
   "outputs": [
    {
     "data": {
      "text/html": [
       "<div>\n",
       "<style scoped>\n",
       "    .dataframe tbody tr th:only-of-type {\n",
       "        vertical-align: middle;\n",
       "    }\n",
       "\n",
       "    .dataframe tbody tr th {\n",
       "        vertical-align: top;\n",
       "    }\n",
       "\n",
       "    .dataframe thead th {\n",
       "        text-align: right;\n",
       "    }\n",
       "</style>\n",
       "<table border=\"1\" class=\"dataframe\">\n",
       "  <thead>\n",
       "    <tr style=\"text-align: right;\">\n",
       "      <th></th>\n",
       "      <th>normal</th>\n",
       "      <th>impersonation</th>\n",
       "      <th>flooding</th>\n",
       "      <th>injection</th>\n",
       "    </tr>\n",
       "  </thead>\n",
       "  <tbody>\n",
       "    <tr>\n",
       "      <th>normal</th>\n",
       "      <td>530785</td>\n",
       "      <td>0</td>\n",
       "      <td>0</td>\n",
       "      <td>0</td>\n",
       "    </tr>\n",
       "    <tr>\n",
       "      <th>impersonation</th>\n",
       "      <td>20079</td>\n",
       "      <td>0</td>\n",
       "      <td>0</td>\n",
       "      <td>0</td>\n",
       "    </tr>\n",
       "    <tr>\n",
       "      <th>flooding</th>\n",
       "      <td>8097</td>\n",
       "      <td>0</td>\n",
       "      <td>0</td>\n",
       "      <td>0</td>\n",
       "    </tr>\n",
       "    <tr>\n",
       "      <th>injection</th>\n",
       "      <td>16682</td>\n",
       "      <td>0</td>\n",
       "      <td>0</td>\n",
       "      <td>0</td>\n",
       "    </tr>\n",
       "  </tbody>\n",
       "</table>\n",
       "</div>"
      ],
      "text/plain": [
       "               normal  impersonation  flooding  injection\n",
       "normal         530785              0         0          0\n",
       "impersonation   20079              0         0          0\n",
       "flooding         8097              0         0          0\n",
       "injection       16682              0         0          0"
      ]
     },
     "execution_count": 94,
     "metadata": {},
     "output_type": "execute_result"
    }
   ],
   "source": [
    "cm_df = pd.DataFrame(cm,\n",
    "                     index = [\"normal\", \"impersonation\", \"flooding\", \"injection\"], \n",
    "                     columns = [\"normal\", \"impersonation\", \"flooding\", \"injection\"])\n",
    "\n",
    "cm_df"
   ]
  },
  {
   "cell_type": "code",
   "execution_count": 95,
   "metadata": {},
   "outputs": [
    {
     "data": {
      "image/png": "[encoded data removed]",
      "text/plain": [
       "<Figure size 500x400 with 2 Axes>"
      ]
     },
     "metadata": {},
     "output_type": "display_data"
    }
   ],
   "source": [
    "import matplotlib.pyplot as plt\n",
    "\n",
    "plt.figure(figsize=(5,4))\n",
    "sns.heatmap(cm_df, annot=True)\n",
    "plt.title('Confusion Matrix')\n",
    "plt.ylabel('Actual Values')\n",
    "plt.xlabel('Predicted Values')\n",
    "plt.show()"
   ]
  },
  {
   "cell_type": "code",
   "execution_count": null,
   "metadata": {},
   "outputs": [],
   "source": []
  },
  {
   "cell_type": "code",
   "execution_count": 96,
   "metadata": {},
   "outputs": [],
   "source": [
    "# import matplotlib.pyplot as plt\n",
    "# from sklearn.metrics import plot_confusion_matrix\n",
    "# plot_confusion_matrix(dummy, X_test, y_test)  \n",
    "# plt.show()"
   ]
  },
  {
   "cell_type": "code",
   "execution_count": 97,
   "metadata": {},
   "outputs": [
    {
     "name": "stderr",
     "output_type": "stream",
     "text": [
      "/DATA/sofia_2111cs15/anaconda3/envs/sofiaj/lib/python3.10/site-packages/sklearn/metrics/_classification.py:1344: UndefinedMetricWarning: Precision and F-score are ill-defined and being set to 0.0 in labels with no predicted samples. Use `zero_division` parameter to control this behavior.\n",
      "  _warn_prf(average, modifier, msg_start, len(result))\n",
      "/DATA/sofia_2111cs15/anaconda3/envs/sofiaj/lib/python3.10/site-packages/sklearn/metrics/_classification.py:1344: UndefinedMetricWarning: Precision and F-score are ill-defined and being set to 0.0 in labels with no predicted samples. Use `zero_division` parameter to control this behavior.\n",
      "  _warn_prf(average, modifier, msg_start, len(result))\n"
     ]
    },
    {
     "name": "stdout",
     "output_type": "stream",
     "text": [
      "               precision    recall  f1-score   support\n",
      "\n",
      "       normal       0.00      0.00      0.00      8097\n",
      "impersonation       0.00      0.00      0.00     20079\n",
      "     flooding       0.00      0.00      0.00     16682\n",
      "    injection       0.92      1.00      0.96    530785\n",
      "\n",
      "     accuracy                           0.92    575643\n",
      "    macro avg       0.23      0.25      0.24    575643\n",
      " weighted avg       0.85      0.92      0.88    575643\n",
      "\n"
     ]
    },
    {
     "name": "stderr",
     "output_type": "stream",
     "text": [
      "/DATA/sofia_2111cs15/anaconda3/envs/sofiaj/lib/python3.10/site-packages/sklearn/metrics/_classification.py:1344: UndefinedMetricWarning: Precision and F-score are ill-defined and being set to 0.0 in labels with no predicted samples. Use `zero_division` parameter to control this behavior.\n",
      "  _warn_prf(average, modifier, msg_start, len(result))\n"
     ]
    }
   ],
   "source": [
    " print(classification_report(y_test, y_pred_dmy, target_names=[\"normal\", \"impersonation\", \"flooding\", \"injection\"]))"
   ]
  },
  {
   "cell_type": "code",
   "execution_count": null,
   "metadata": {},
   "outputs": [],
   "source": [
    "start_knn=time.time()\n",
    "\n",
    "from sklearn.neighbors import KNeighborsClassifier\n",
    "knn = KNeighborsClassifier(n_neighbors=5)\n",
    "knn.fit(X_train, y_train)\n",
    "y_pred_knn=knn.predict(X_test)\n",
    "print(model_accuracy(knn))\n",
    "\n",
    "end_knn = time.time()\n",
    "\n",
    "print('time taken by knn',end_knn-start_knn)"
   ]
  },
  {
   "cell_type": "code",
   "execution_count": null,
   "metadata": {},
   "outputs": [],
   "source": [
    "cm = confusion_matrix(y_test,y_pred_knn,labels=[\"normal\", \"impersonation\", \"flooding\", \"injection\"])\n",
    "cm"
   ]
  },
  {
   "cell_type": "code",
   "execution_count": null,
   "metadata": {},
   "outputs": [],
   "source": [
    "cm_df = pd.DataFrame(cm,\n",
    "                     index = [\"normal\", \"impersonation\", \"flooding\", \"injection\"], \n",
    "                     columns = [\"normal\", \"impersonation\", \"flooding\", \"injection\"])\n",
    "\n",
    "cm_df"
   ]
  },
  {
   "cell_type": "code",
   "execution_count": null,
   "metadata": {},
   "outputs": [],
   "source": [
    "import matplotlib.pyplot as plt\n",
    "\n",
    "plt.figure(figsize=(5,4))\n",
    "sns.heatmap(cm_df, annot=True)\n",
    "plt.title('Confusion Matrix')\n",
    "plt.ylabel('Actual Values')\n",
    "plt.xlabel('Predicted Values')\n",
    "plt.show()"
   ]
  },
  {
   "cell_type": "code",
   "execution_count": null,
   "metadata": {},
   "outputs": [],
   "source": []
  },
  {
   "cell_type": "code",
   "execution_count": null,
   "metadata": {},
   "outputs": [],
   "source": [
    "# import matplotlib.pyplot as plt\n",
    "# from sklearn.metrics import plot_confusion_matrix\n",
    "# plot_confusion_matrix(knn, X_test, y_test)  \n",
    "# plt.show()"
   ]
  },
  {
   "cell_type": "code",
   "execution_count": null,
   "metadata": {},
   "outputs": [],
   "source": [
    " print(classification_report(y_test, y_pred_knn, target_names=[\"normal\", \"impersonation\", \"flooding\", \"injection\"],zero_division=0))"
   ]
  },
  {
   "cell_type": "code",
   "execution_count": null,
   "metadata": {},
   "outputs": [],
   "source": [
    "start_bnb=time.time()\n",
    "\n",
    "from sklearn.naive_bayes import BernoulliNB\n",
    "model = BernoulliNB(binarize=0.0)\n",
    "model.fit(X_train, y_train)\n",
    "print(model_accuracy(model))\n",
    "\n",
    "end_bnb = time.time()\n",
    "\n",
    "print('time taken by',end_bnb-start_bnb)"
   ]
  },
  {
   "cell_type": "code",
   "execution_count": null,
   "metadata": {},
   "outputs": [],
   "source": [
    "y_pred_bnb=model.predict(X_test)"
   ]
  },
  {
   "cell_type": "code",
   "execution_count": null,
   "metadata": {},
   "outputs": [],
   "source": [
    "cm = confusion_matrix(y_test,y_pred_bnb,labels=[\"normal\", \"impersonation\", \"flooding\", \"injection\"])\n",
    "cm"
   ]
  },
  {
   "cell_type": "code",
   "execution_count": null,
   "metadata": {},
   "outputs": [],
   "source": [
    "cm_df = pd.DataFrame(cm,\n",
    "                     index = [\"normal\", \"impersonation\", \"flooding\", \"injection\"], \n",
    "                     columns = [\"normal\", \"impersonation\", \"flooding\", \"injection\"])\n",
    "\n",
    "cm_df"
   ]
  },
  {
   "cell_type": "code",
   "execution_count": null,
   "metadata": {},
   "outputs": [],
   "source": [
    "import matplotlib.pyplot as plt\n",
    "\n",
    "plt.figure(figsize=(5,4))\n",
    "sns.heatmap(cm_df, annot=True)\n",
    "plt.title('Confusion Matrix')\n",
    "plt.ylabel('Actual Values')\n",
    "plt.xlabel('Predicted Values')\n",
    "plt.show()"
   ]
  },
  {
   "cell_type": "code",
   "execution_count": null,
   "metadata": {},
   "outputs": [],
   "source": [
    " print(classification_report(y_test, y_pred_bnb, target_names=[\"normal\", \"impersonation\", \"flooding\", \"injection\"]))"
   ]
  },
  {
   "cell_type": "code",
   "execution_count": null,
   "metadata": {},
   "outputs": [],
   "source": [
    "# import matplotlib.pyplot as plt\n",
    "# from sklearn.metrics import plot_confusion_matrix\n",
    "# plot_confusion_matrix(model, X_test, y_test)  \n",
    "# plt.show()"
   ]
  },
  {
   "cell_type": "code",
   "execution_count": null,
   "metadata": {},
   "outputs": [],
   "source": [
    "#converting series to list\n",
    "\n",
    "# y_train.value_counts()\n",
    "\n",
    "# series_y_train = pd.Series(encoded_y) \n",
    "\n",
    "# print(type(y_train),type(series_y_train))\n",
    "\n",
    "# series_y_train.value_counts()\n",
    "\n"
   ]
  },
  {
   "cell_type": "markdown",
   "metadata": {
    "id": "AuhynF_pFvea"
   },
   "source": [
    "### **To compare the model performance without feature elimination**"
   ]
  },
  {
   "cell_type": "code",
   "execution_count": null,
   "metadata": {
    "id": "ixcpbg2LF0J-"
   },
   "outputs": [],
   "source": [
    "# def model_accuracy_origi(model):\n",
    "#     y_preds1=model.predict(X_test_original)\n",
    "#     return accuracy_score(y_test, y_preds1)"
   ]
  },
  {
   "cell_type": "code",
   "execution_count": null,
   "metadata": {
    "id": "r0Q58D9cGsBS"
   },
   "outputs": [],
   "source": [
    "\n",
    "# lr1=LogisticRegression()\n",
    "# lr1.fit(X_train_original, y_train)\n",
    "# model_accuracy_origi(lr1)"
   ]
  },
  {
   "cell_type": "code",
   "execution_count": null,
   "metadata": {
    "id": "x6lXhYQ4HRuv"
   },
   "outputs": [],
   "source": [
    "# X_test_original.shape\n",
    "# X_train_original.shape"
   ]
  },
  {
   "cell_type": "code",
   "execution_count": null,
   "metadata": {
    "id": "VJ3TrIq0Ha6G"
   },
   "outputs": [],
   "source": [
    "# # Decision Tree Algorithm\n",
    "# tree=DecisionTreeClassifier()\n",
    "# tree.fit(X_train_original, y_train)\n",
    "# model_accuracy_origi(tree)"
   ]
  },
  {
   "cell_type": "code",
   "execution_count": null,
   "metadata": {
    "id": "0vimsWmcHtEm"
   },
   "outputs": [],
   "source": [
    "# #Random Forest Classifier \n",
    "# forest=RandomForestClassifier()\n",
    "# forest.fit(X_train_original,y_train)\n",
    "# model_accuracy_origi(forest)"
   ]
  },
  {
   "cell_type": "code",
   "execution_count": null,
   "metadata": {},
   "outputs": [],
   "source": [
    "# Import pandas package\n",
    "import pandas as pd\n",
    "\n",
    "# Define a dictionary containing employee data\n",
    "data = {'Name':['Jai', 'Princi', 'Gaurav', 'Anuj'],\n",
    "\t\t'Age':[27.8, 24.5, 22, 32],\n",
    "\t\t'Address':['Delhi', 'Kanpur', 'Allahabad', 'Kannauj'],\n",
    "\t\t'Qualification':['Msc', 'MA', 'MCA', 'Phd']\n",
    "\t}\n",
    "# Convert the dictionary into DataFrame\n",
    "df = pd.DataFrame(data)\n",
    "\n",
    "# .loc DataFrame method\n",
    "# filtering rows and selecting columns by label\n",
    "# format\n",
    "# df.loc[rows, columns]\n",
    "# row 1, all columns\n",
    "df\n"
   ]
  },
  {
   "cell_type": "code",
   "execution_count": null,
   "metadata": {},
   "outputs": [],
   "source": [
    "\n",
    "for i in range(len(df.columns)):\n",
    "    if str(type(df.iloc[0,i]))==\"<class 'numpy.int64'>\":\n",
    "        print('integer')\n",
    "    else:\n",
    "        print('not integre')\n",
    "        s=df.columns[i]\n",
    "        a=df[s].unique()\n",
    "        print(a)\n",
    "        dicta={}\n",
    "        for i in range(0,len(a)):\n",
    "            dicta[a[i]]=i\n",
    "        print(dicta)\n",
    "        df.replace({s: dicta},inplace=True)\n",
    "        \n",
    "df"
   ]
  },
  {
   "cell_type": "code",
   "execution_count": null,
   "metadata": {},
   "outputs": [],
   "source": []
  }
 ],
 "metadata": {
  "colab": {
   "provenance": []
  },
  "kernelspec": {
   "display_name": "Python 3 (ipykernel)",
   "language": "python",
   "name": "python3"
  },
  "language_info": {
   "codemirror_mode": {
    "name": "ipython",
    "version": 3
   },
   "file_extension": ".py",
   "mimetype": "text/x-python",
   "name": "python",
   "nbconvert_exporter": "python",
   "pygments_lexer": "ipython3",
   "version": "3.10.9"
  },
  "vscode": {
   "interpreter": {
    "hash": "aadcb5cbaffac7d604e5ed481465377188c96d4ba885a27663c66594bc37f497"
   }
  }
 },
 "nbformat": 4,
 "nbformat_minor": 1
}
